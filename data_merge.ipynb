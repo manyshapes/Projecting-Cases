{
 "cells": [
  {
   "cell_type": "code",
   "execution_count": 20,
   "metadata": {},
   "outputs": [],
   "source": [
    "import pandas as pd\n",
    "import numpy as np\n",
    "import seaborn as sns\n",
    "import matplotlib.pyplot as plt"
   ]
  },
  {
   "cell_type": "code",
   "execution_count": 21,
   "metadata": {},
   "outputs": [],
   "source": [
    "%matplotlib inline"
   ]
  },
  {
   "cell_type": "code",
   "execution_count": 22,
   "metadata": {},
   "outputs": [],
   "source": [
    "import warnings\n",
    "warnings.filterwarnings('ignore')"
   ]
  },
  {
   "cell_type": "markdown",
   "metadata": {},
   "source": [
    "## Reading the Covid, Zika and Dengue datasets here"
   ]
  },
  {
   "cell_type": "code",
   "execution_count": 23,
   "metadata": {},
   "outputs": [],
   "source": [
    "import pandas as pd\n",
    "\n",
    "# this is the link to the COVID-19 data\n",
    "covid_url = 'https://raw.githubusercontent.com/CSSEGISandData/COVID-19/master/csse_covid_19_data/csse_covid_19_time_series/time_series_covid19_confirmed_global.csv'\n",
    "covid_death_url_global = 'https://raw.githubusercontent.com/CSSEGISandData/COVID-19/master/csse_covid_19_data/csse_covid_19_time_series/time_series_covid19_deaths_global.csv'\n",
    "\n",
    "raw_cases_df = pd.read_csv(covid_url, index_col=0, dtype='object')\n",
    "raw_deaths_df = pd.read_csv(covid_death_url_global, index_col=0, dtype='object')\n",
    "\n",
    "def clean_covid_dataframe(aDf, final_column_name):\n",
    "\n",
    "    raw_df = aDf.copy()\n",
    "    raw_df = raw_df.reset_index()\n",
    "    temp_df = raw_df.rename(columns = {'Province/State': 'state',\n",
    "                                       'Country/Region': 'country',\n",
    "                                       'Lat': 'lat',\n",
    "                                       'Long': 'long'\n",
    "                                      })\n",
    "\n",
    "    # removing the latitude and the logitude columns as they are not required\n",
    "    temp_df = temp_df.drop(columns = ['lat', 'long'])\n",
    "\n",
    "    # unpivoting the table to see the cases per country and the date\n",
    "    df = pd.melt(temp_df, id_vars = ['country','state'], var_name='date', value_name = final_column_name)\n",
    "    df.date = pd.to_datetime(df.date)\n",
    "    df[final_column_name] = pd.to_numeric(df[final_column_name])\n",
    "\n",
    "    return df\n",
    "\n",
    "cases = clean_covid_dataframe(raw_cases_df, final_column_name ='no_cases')\n",
    "deaths = clean_covid_dataframe(raw_deaths_df, final_column_name ='no_deaths')\n",
    "\n",
    "covid = cases.set_index(['country','state','date']).join(\n",
    "    deaths.set_index(['country','state','date']),\n",
    "    how='left').reset_index()\n",
    "\n",
    "covid['year'] = covid.date.dt.year\n",
    "covid['month'] = covid.date.dt.month\n",
    "\n",
    "covid = covid.sort_values(['country','date'])\n",
    "covid['previous_day_cases'] = covid.groupby(['country'])['no_cases'].shift(1)\n",
    "covid['non_cumulative_cases'] = covid['no_cases'] - covid['previous_day_cases'].fillna(0)\n",
    "\n",
    "covid['previous_day_deaths'] = covid.groupby(['country'])['no_deaths'].shift(1)\n",
    "covid['non_cumulative_deaths'] = covid['no_deaths'] - covid['previous_day_deaths'].fillna(0)\n",
    "\n",
    "covid = covid.rename(columns = {'no_cases': 'cumulative_cases',\n",
    "                                'no_deaths': 'cumulative_deaths',\n",
    "                                'non_cumulative_cases': 'no_cases',\n",
    "                                'non_cumulative_deaths': 'no_deaths'})\n",
    "covid.to_csv('Datasets/covid_19_data.csv.gz', index=False)\n",
    "\n",
    "covid.to_csv('Datasets/covid_19_data.csv.gz', index=False)\n"
   ]
  },
  {
   "cell_type": "code",
   "execution_count": 24,
   "metadata": {},
   "outputs": [],
   "source": [
    "covid_data = pd.read_csv('Datasets/covid_19_data.csv.gz',parse_dates=[2])\n",
    "dengue_data = pd.read_csv('Datasets/dengue_data.csv.gz',parse_dates=[14, 15])\n",
    "zika_data = pd.read_csv('Datasets/zika16to18.csv',parse_dates=[0])\n",
    "malaria_data = pd.read_csv('Datasets/malaria_data.csv.gz',parse_dates=[19])"
   ]
  },
  {
   "cell_type": "code",
   "execution_count": 25,
   "metadata": {},
   "outputs": [],
   "source": [
    "zika_data.columns = ['_'.join(c.lower().split(' ')) for c in zika_data.columns]\n",
    "zika_data.columns = ['_'.join(c.lower().split(' ')) for c in zika_data.columns]\n",
    "zika_data = zika_data.rename(columns= {'noncumulative_confirmed': 'no_cases',\n",
    "                                       'noncumulative_zika_case_deaths': 'no_deaths',\n",
    "                                       'confirmed': 'cumulative_cases',\n",
    "                                       'zika_case_deaths': 'cumulative_deaths',\n",
    "                                       'country/territory': 'country'})\n",
    "\n",
    "\n",
    "# removing the TOTAL values from the zika data\n",
    "zika_data = zika_data[~zika_data.country.isin(['TOTAL'])]\n",
    "\n",
    "# removing the commas from the country name at the end\n",
    "zika_data['country'] = zika_data['country'].str.rstrip(to_strip=',')\n",
    "# can delete now within read csv\n",
    "    # dengue_data['date'] = pd.to_datetime(dengue_data.epi_week_start_date)\n",
    "    # covid_data['date'] = pd.to_datetime(covid_data.date)\n",
    "    # zika_data['date'] = pd.to_datetime(zika_data.date)\n",
    "    # malaria_data['date'] = pd.to_datetime(malaria_data.date)"
   ]
  },
  {
   "cell_type": "markdown",
   "metadata": {},
   "source": [
    "### Adding the disease and transmission_mode columns"
   ]
  },
  {
   "cell_type": "code",
   "execution_count": 26,
   "metadata": {},
   "outputs": [],
   "source": [
    "covid_data['disease'] = 'covid-19'\n",
    "dengue_data['disease'] = 'dengue'\n",
    "zika_data['disease'] = 'zika'\n",
    "malaria_data['disease']='malaria'\n",
    "\n",
    "covid_data['transmission_mode'] = 'air'\n",
    "dengue_data['transmission_mode'] = 'mosquito'\n",
    "zika_data['transmission_mode'] = 'mosquito'\n",
    "malaria_data['transmission_mode']='mosquito'\n"
   ]
  },
  {
   "cell_type": "markdown",
   "metadata": {},
   "source": [
    "### Checking if the must columns are present in the datasets are not"
   ]
  },
  {
   "cell_type": "code",
   "execution_count": 27,
   "metadata": {},
   "outputs": [],
   "source": [
    "# may be doing with the week number \n",
    "# clean up the country column\n",
    "# Merge the malaria data\n",
    "    ## Instead of the spikes by country and we just cateorize it by the continent - that way we only have the 7 thingst to  manupulate\n",
    "    \n",
    "# weekly counts is safer"
   ]
  },
  {
   "cell_type": "code",
   "execution_count": 28,
   "metadata": {},
   "outputs": [
    {
     "output_type": "execute_result",
     "data": {
      "text/plain": [
       "           date                   country  suspected  cumulative_cases  \\\n",
       "0    2016-11-17                  Paraguay        546                12   \n",
       "1    2016-11-17                   Uruguay          0                 0   \n",
       "2    2016-11-17                 Subtotal        2367                38   \n",
       "3    2016-11-17                  Anguilla         40                 5   \n",
       "4    2016-11-17       Antigua and Barbuda        393                14   \n",
       "...         ...                       ...        ...               ...   \n",
       "3653 2017-12-21                 Subtotal      172905             17073   \n",
       "3654 2017-12-21                    Brazil     231725            137288   \n",
       "3655 2017-12-21                 Argentina        539               278   \n",
       "3656 2017-12-21                    Canada          0                 0   \n",
       "3657 2017-12-21  United States of America          0               226   \n",
       "\n",
       "      imported_cases  incidence_rate  cumulative_deaths  \\\n",
       "0                0.0        8.297398                0.0   \n",
       "1                1.0        0.000000                0.0   \n",
       "2               57.0        3.483084                0.0   \n",
       "3                1.0      264.705882                0.0   \n",
       "4                2.0      432.978723                0.0   \n",
       "...              ...             ...                ...   \n",
       "3653            41.0      136.072772                0.0   \n",
       "3654             0.0      176.095308               11.0   \n",
       "3655            41.0        1.854290                0.0   \n",
       "3656           544.0        0.000000                0.0   \n",
       "3657          5324.0        0.069475                0.0   \n",
       "\n",
       "      zika_congenital_syndrome  population_x1000e  noncumulative_suspected  \\\n",
       "0                          2.0               6725                      NaN   \n",
       "1                          0.0                344                      NaN   \n",
       "2                          3.0              69048                      NaN   \n",
       "3                          0.0                 17                      NaN   \n",
       "4                          0.0                 94                      NaN   \n",
       "...                        ...                ...                      ...   \n",
       "3653                     276.0             139615                  82718.0   \n",
       "3654                    2952.0             209553                      0.0   \n",
       "3655                       5.0              44060                      0.0   \n",
       "3656                       1.0              36284                      0.0   \n",
       "3657                      98.0             325296                      0.0   \n",
       "\n",
       "      no_cases  no_deaths  noncumulative_zika_congenital_syndrome disease  \\\n",
       "0          NaN        NaN                                     NaN    zika   \n",
       "1          NaN        NaN                                     NaN    zika   \n",
       "2          NaN        NaN                                     NaN    zika   \n",
       "3          NaN        NaN                                     NaN    zika   \n",
       "4          NaN        NaN                                     NaN    zika   \n",
       "...        ...        ...                                     ...     ...   \n",
       "3653  -25163.0       -5.0                                   131.0    zika   \n",
       "3654       0.0        0.0                                     0.0    zika   \n",
       "3655       0.0        0.0                                     0.0    zika   \n",
       "3656       0.0        0.0                                     0.0    zika   \n",
       "3657       0.0        0.0                                     0.0    zika   \n",
       "\n",
       "     transmission_mode  \n",
       "0             mosquito  \n",
       "1             mosquito  \n",
       "2             mosquito  \n",
       "3             mosquito  \n",
       "4             mosquito  \n",
       "...                ...  \n",
       "3653          mosquito  \n",
       "3654          mosquito  \n",
       "3655          mosquito  \n",
       "3656          mosquito  \n",
       "3657          mosquito  \n",
       "\n",
       "[3596 rows x 15 columns]"
      ],
      "text/html": "<div>\n<style scoped>\n    .dataframe tbody tr th:only-of-type {\n        vertical-align: middle;\n    }\n\n    .dataframe tbody tr th {\n        vertical-align: top;\n    }\n\n    .dataframe thead th {\n        text-align: right;\n    }\n</style>\n<table border=\"1\" class=\"dataframe\">\n  <thead>\n    <tr style=\"text-align: right;\">\n      <th></th>\n      <th>date</th>\n      <th>country</th>\n      <th>suspected</th>\n      <th>cumulative_cases</th>\n      <th>imported_cases</th>\n      <th>incidence_rate</th>\n      <th>cumulative_deaths</th>\n      <th>zika_congenital_syndrome</th>\n      <th>population_x1000e</th>\n      <th>noncumulative_suspected</th>\n      <th>no_cases</th>\n      <th>no_deaths</th>\n      <th>noncumulative_zika_congenital_syndrome</th>\n      <th>disease</th>\n      <th>transmission_mode</th>\n    </tr>\n  </thead>\n  <tbody>\n    <tr>\n      <th>0</th>\n      <td>2016-11-17</td>\n      <td>Paraguay</td>\n      <td>546</td>\n      <td>12</td>\n      <td>0.0</td>\n      <td>8.297398</td>\n      <td>0.0</td>\n      <td>2.0</td>\n      <td>6725</td>\n      <td>NaN</td>\n      <td>NaN</td>\n      <td>NaN</td>\n      <td>NaN</td>\n      <td>zika</td>\n      <td>mosquito</td>\n    </tr>\n    <tr>\n      <th>1</th>\n      <td>2016-11-17</td>\n      <td>Uruguay</td>\n      <td>0</td>\n      <td>0</td>\n      <td>1.0</td>\n      <td>0.000000</td>\n      <td>0.0</td>\n      <td>0.0</td>\n      <td>344</td>\n      <td>NaN</td>\n      <td>NaN</td>\n      <td>NaN</td>\n      <td>NaN</td>\n      <td>zika</td>\n      <td>mosquito</td>\n    </tr>\n    <tr>\n      <th>2</th>\n      <td>2016-11-17</td>\n      <td>Subtotal</td>\n      <td>2367</td>\n      <td>38</td>\n      <td>57.0</td>\n      <td>3.483084</td>\n      <td>0.0</td>\n      <td>3.0</td>\n      <td>69048</td>\n      <td>NaN</td>\n      <td>NaN</td>\n      <td>NaN</td>\n      <td>NaN</td>\n      <td>zika</td>\n      <td>mosquito</td>\n    </tr>\n    <tr>\n      <th>3</th>\n      <td>2016-11-17</td>\n      <td>Anguilla</td>\n      <td>40</td>\n      <td>5</td>\n      <td>1.0</td>\n      <td>264.705882</td>\n      <td>0.0</td>\n      <td>0.0</td>\n      <td>17</td>\n      <td>NaN</td>\n      <td>NaN</td>\n      <td>NaN</td>\n      <td>NaN</td>\n      <td>zika</td>\n      <td>mosquito</td>\n    </tr>\n    <tr>\n      <th>4</th>\n      <td>2016-11-17</td>\n      <td>Antigua and Barbuda</td>\n      <td>393</td>\n      <td>14</td>\n      <td>2.0</td>\n      <td>432.978723</td>\n      <td>0.0</td>\n      <td>0.0</td>\n      <td>94</td>\n      <td>NaN</td>\n      <td>NaN</td>\n      <td>NaN</td>\n      <td>NaN</td>\n      <td>zika</td>\n      <td>mosquito</td>\n    </tr>\n    <tr>\n      <th>...</th>\n      <td>...</td>\n      <td>...</td>\n      <td>...</td>\n      <td>...</td>\n      <td>...</td>\n      <td>...</td>\n      <td>...</td>\n      <td>...</td>\n      <td>...</td>\n      <td>...</td>\n      <td>...</td>\n      <td>...</td>\n      <td>...</td>\n      <td>...</td>\n      <td>...</td>\n    </tr>\n    <tr>\n      <th>3653</th>\n      <td>2017-12-21</td>\n      <td>Subtotal</td>\n      <td>172905</td>\n      <td>17073</td>\n      <td>41.0</td>\n      <td>136.072772</td>\n      <td>0.0</td>\n      <td>276.0</td>\n      <td>139615</td>\n      <td>82718.0</td>\n      <td>-25163.0</td>\n      <td>-5.0</td>\n      <td>131.0</td>\n      <td>zika</td>\n      <td>mosquito</td>\n    </tr>\n    <tr>\n      <th>3654</th>\n      <td>2017-12-21</td>\n      <td>Brazil</td>\n      <td>231725</td>\n      <td>137288</td>\n      <td>0.0</td>\n      <td>176.095308</td>\n      <td>11.0</td>\n      <td>2952.0</td>\n      <td>209553</td>\n      <td>0.0</td>\n      <td>0.0</td>\n      <td>0.0</td>\n      <td>0.0</td>\n      <td>zika</td>\n      <td>mosquito</td>\n    </tr>\n    <tr>\n      <th>3655</th>\n      <td>2017-12-21</td>\n      <td>Argentina</td>\n      <td>539</td>\n      <td>278</td>\n      <td>41.0</td>\n      <td>1.854290</td>\n      <td>0.0</td>\n      <td>5.0</td>\n      <td>44060</td>\n      <td>0.0</td>\n      <td>0.0</td>\n      <td>0.0</td>\n      <td>0.0</td>\n      <td>zika</td>\n      <td>mosquito</td>\n    </tr>\n    <tr>\n      <th>3656</th>\n      <td>2017-12-21</td>\n      <td>Canada</td>\n      <td>0</td>\n      <td>0</td>\n      <td>544.0</td>\n      <td>0.000000</td>\n      <td>0.0</td>\n      <td>1.0</td>\n      <td>36284</td>\n      <td>0.0</td>\n      <td>0.0</td>\n      <td>0.0</td>\n      <td>0.0</td>\n      <td>zika</td>\n      <td>mosquito</td>\n    </tr>\n    <tr>\n      <th>3657</th>\n      <td>2017-12-21</td>\n      <td>United States of America</td>\n      <td>0</td>\n      <td>226</td>\n      <td>5324.0</td>\n      <td>0.069475</td>\n      <td>0.0</td>\n      <td>98.0</td>\n      <td>325296</td>\n      <td>0.0</td>\n      <td>0.0</td>\n      <td>0.0</td>\n      <td>0.0</td>\n      <td>zika</td>\n      <td>mosquito</td>\n    </tr>\n  </tbody>\n</table>\n<p>3596 rows × 15 columns</p>\n</div>"
     },
     "metadata": {},
     "execution_count": 28
    }
   ],
   "source": [
    "zika_data"
   ]
  },
  {
   "cell_type": "code",
   "execution_count": 29,
   "metadata": {},
   "outputs": [],
   "source": [
    "covid_data['week'] = covid_data['date'].dt.week\n",
    "covid_data['year'] = covid_data['date'].dt.year\n",
    "dengue_data['week'] = dengue_data['date'].dt.week\n",
    "covid_data['year'] = covid_data['date'].dt.year\n",
    "malaria_data['week'] = malaria_data['date'].dt.week\n",
    "malaria_data['year'] = malaria_data['date'].dt.year\n",
    "zika_data['week'] = zika_data['date'].dt.week\n",
    "zika_data['year'] = zika_data['date'].dt.year\n",
    "zika_data['month'] = zika_data['date'].dt.month"
   ]
  },
  {
   "cell_type": "code",
   "execution_count": 30,
   "metadata": {},
   "outputs": [],
   "source": [
    "must_columns = ['country','date','year','month','transmission_mode',\n",
    "                'no_cases','no_deaths','cumulative_cases','cumulative_deaths','disease']\n",
    "\n",
    "assert pd.Series(must_columns).isin(covid_data.columns).all()\n",
    "assert pd.Series(must_columns).isin(dengue_data.columns).all()\n",
    "assert pd.Series(must_columns).isin(zika_data.columns).all()\n",
    "assert pd.Series(must_columns).isin(malaria_data.columns).all()"
   ]
  },
  {
   "cell_type": "code",
   "execution_count": 31,
   "metadata": {},
   "outputs": [],
   "source": [
    "df = pd.concat([covid_data[must_columns],\n",
    "                zika_data[must_columns],\n",
    "                dengue_data[must_columns],\n",
    "               malaria_data[must_columns]])\n",
    "\n",
    "df['week'] = df.date.dt.week\n",
    "df.country = df.country.str.strip()"
   ]
  },
  {
   "cell_type": "code",
   "execution_count": 32,
   "metadata": {},
   "outputs": [],
   "source": [
    "# cleaning up the countries\n",
    "\n",
    "country_mapping = {\n",
    "    'Viet Nam': 'Vietnam',\n",
    "    'Cura\\x8dao': 'Curacao',\n",
    "    'Iran (Islamic Republic of)': 'Iran',\n",
    "    'Bolivia (Plurinational State of)': 'Bolivia',\n",
    "    \"Democratic People's Republic of Korea\": 'North Korea',\n",
    "    'Democratic Republic of the Congo': 'Congo (Kinshasa)',\n",
    "    \"Lao People's Democratic Republic\": 'Laos',\n",
    "    'United Republic of Tanzania': 'Tanzania',\n",
    "    'Venezuela (Bolivarian Republic of)': 'Venezuela',\n",
    "    'Sint Maarten (Dutch part)': 'Saint Martin',\n",
    "    'US': 'United States of America'\n",
    "    \n",
    "}\n",
    "\n",
    "df.country = df.country.replace(country_mapping)"
   ]
  },
  {
   "cell_type": "code",
   "execution_count": 33,
   "metadata": {},
   "outputs": [
    {
     "output_type": "execute_result",
     "data": {
      "text/plain": [
       "       country       date  year  month transmission_mode  no_cases  no_deaths  \\\n",
       "0  Afghanistan 2020-01-22  2020      1               air       0.0        0.0   \n",
       "1  Afghanistan 2020-01-23  2020      1               air       0.0        0.0   \n",
       "2  Afghanistan 2020-01-24  2020      1               air       0.0        0.0   \n",
       "3  Afghanistan 2020-01-25  2020      1               air       0.0        0.0   \n",
       "4  Afghanistan 2020-01-26  2020      1               air       0.0        0.0   \n",
       "\n",
       "   cumulative_cases  cumulative_deaths   disease  week  \n",
       "0               0.0                0.0  covid-19     4  \n",
       "1               0.0                0.0  covid-19     4  \n",
       "2               0.0                0.0  covid-19     4  \n",
       "3               0.0                0.0  covid-19     4  \n",
       "4               0.0                0.0  covid-19     4  "
      ],
      "text/html": "<div>\n<style scoped>\n    .dataframe tbody tr th:only-of-type {\n        vertical-align: middle;\n    }\n\n    .dataframe tbody tr th {\n        vertical-align: top;\n    }\n\n    .dataframe thead th {\n        text-align: right;\n    }\n</style>\n<table border=\"1\" class=\"dataframe\">\n  <thead>\n    <tr style=\"text-align: right;\">\n      <th></th>\n      <th>country</th>\n      <th>date</th>\n      <th>year</th>\n      <th>month</th>\n      <th>transmission_mode</th>\n      <th>no_cases</th>\n      <th>no_deaths</th>\n      <th>cumulative_cases</th>\n      <th>cumulative_deaths</th>\n      <th>disease</th>\n      <th>week</th>\n    </tr>\n  </thead>\n  <tbody>\n    <tr>\n      <th>0</th>\n      <td>Afghanistan</td>\n      <td>2020-01-22</td>\n      <td>2020</td>\n      <td>1</td>\n      <td>air</td>\n      <td>0.0</td>\n      <td>0.0</td>\n      <td>0.0</td>\n      <td>0.0</td>\n      <td>covid-19</td>\n      <td>4</td>\n    </tr>\n    <tr>\n      <th>1</th>\n      <td>Afghanistan</td>\n      <td>2020-01-23</td>\n      <td>2020</td>\n      <td>1</td>\n      <td>air</td>\n      <td>0.0</td>\n      <td>0.0</td>\n      <td>0.0</td>\n      <td>0.0</td>\n      <td>covid-19</td>\n      <td>4</td>\n    </tr>\n    <tr>\n      <th>2</th>\n      <td>Afghanistan</td>\n      <td>2020-01-24</td>\n      <td>2020</td>\n      <td>1</td>\n      <td>air</td>\n      <td>0.0</td>\n      <td>0.0</td>\n      <td>0.0</td>\n      <td>0.0</td>\n      <td>covid-19</td>\n      <td>4</td>\n    </tr>\n    <tr>\n      <th>3</th>\n      <td>Afghanistan</td>\n      <td>2020-01-25</td>\n      <td>2020</td>\n      <td>1</td>\n      <td>air</td>\n      <td>0.0</td>\n      <td>0.0</td>\n      <td>0.0</td>\n      <td>0.0</td>\n      <td>covid-19</td>\n      <td>4</td>\n    </tr>\n    <tr>\n      <th>4</th>\n      <td>Afghanistan</td>\n      <td>2020-01-26</td>\n      <td>2020</td>\n      <td>1</td>\n      <td>air</td>\n      <td>0.0</td>\n      <td>0.0</td>\n      <td>0.0</td>\n      <td>0.0</td>\n      <td>covid-19</td>\n      <td>4</td>\n    </tr>\n  </tbody>\n</table>\n</div>"
     },
     "metadata": {},
     "execution_count": 33
    }
   ],
   "source": [
    "df.head()"
   ]
  },
  {
   "cell_type": "code",
   "execution_count": 34,
   "metadata": {},
   "outputs": [],
   "source": [
    "df.to_csv('Datasets/all_diseases.csv.gz', index=False)"
   ]
  },
  {
   "cell_type": "code",
   "execution_count": null,
   "metadata": {},
   "outputs": [],
   "source": []
  }
 ],
 "metadata": {
  "kernelspec": {
   "name": "python3",
   "display_name": "Python 3.9.0 64-bit",
   "metadata": {
    "interpreter": {
     "hash": "ac2eaa0ea0ebeafcc7822e65e46aa9d4f966f30b695406963e145ea4a91cd4fc"
    }
   }
  },
  "language_info": {
   "codemirror_mode": {
    "name": "ipython",
    "version": 3
   },
   "file_extension": ".py",
   "mimetype": "text/x-python",
   "name": "python",
   "nbconvert_exporter": "python",
   "pygments_lexer": "ipython3",
   "version": "3.9.0-final"
  }
 },
 "nbformat": 4,
 "nbformat_minor": 2
}