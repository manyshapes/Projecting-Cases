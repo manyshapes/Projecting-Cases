{
 "cells": [
  {
   "cell_type": "code",
   "execution_count": 5,
   "metadata": {},
   "outputs": [],
   "source": [
    "import pandas as pd\n",
    "import numpy as np\n",
    "import seaborn as sns\n",
    "import matplotlib.pyplot as plt"
   ]
  },
  {
   "cell_type": "code",
   "execution_count": 2,
   "metadata": {},
   "outputs": [],
   "source": [
    "%matplotlib inline"
   ]
  },
  {
   "cell_type": "markdown",
   "metadata": {},
   "source": [
    "## Reading the Covid, Zika and Dengue datasets here"
   ]
  },
  {
   "cell_type": "code",
   "execution_count": 12,
   "metadata": {},
   "outputs": [],
   "source": [
    "covid_data = pd.read_csv('Datasets/covid_19_data.csv.gz')\n",
    "dengue_data = pd.read_csv('Datasets/dengue_data.csv.gz')\n",
    "zika_data = pd.read_csv('zika/zika16to18.csv')\n",
    "malaria_data = pd.read_csv('Datasets/malaria_data.csv.gz')\n",
    "\n",
    "\n",
    "zika_data.columns = ['_'.join(c.lower().split(' ')) for c in zika_data.columns]\n",
    "zika_data = zika_data.rename(columns= {'noncumulative_confirmed': 'no_cases',\n",
    "                                       'noncumulative_zika_case_deaths': 'no_deaths',\n",
    "                                       'confirmed': 'cumulative_cases',\n",
    "                                       'zika_case_deaths': 'cumulative_deaths',\n",
    "                                       'country/territory': 'country'})\n",
    "\n",
    "dengue_data['date'] = pd.to_datetime(dengue_data.date)\n",
    "covid_data['date'] = pd.to_datetime(covid_data.date)\n",
    "zika_data['date'] = pd.to_datetime(zika_data.date)\n",
    "malaria_data['date'] = pd.to_datetime(malaria_data.date)"
   ]
  },
  {
   "cell_type": "markdown",
   "metadata": {},
   "source": [
    "### Adding the disease and transmission_mode columns"
   ]
  },
  {
   "cell_type": "code",
   "execution_count": 26,
   "metadata": {},
   "outputs": [],
   "source": [
    "covid_data['disease'] = 'covid-19'\n",
    "dengue_data['disease'] = 'dengue'\n",
    "zika_data['disease'] = 'zika'\n",
    "malaria_data['disease']='malaria'\n",
    "\n",
    "covid_data['transmission_mode'] = 'air'\n",
    "dengue_data['transmission_mode'] = 'mosquito'\n",
    "zika_data['transmission_mode'] = 'mosquito'\n",
    "malaria_data['transmission_mode']='mosquito'\n"
   ]
  },
  {
   "cell_type": "markdown",
   "metadata": {},
   "source": [
    "### Checking if the must columns are present in the datasets are not"
   ]
  },
  {
   "cell_type": "code",
   "execution_count": 30,
   "metadata": {},
   "outputs": [],
   "source": [
    "must_columns = ['country','date','year','month','day','transmission_mode',\n",
    "                'no_cases','no_deaths','cumulative_cases','cumulative_deaths','disease']\n",
    "\n",
    "assert pd.Series(must_columns).isin(covid_data.columns).all()\n",
    "assert pd.Series(must_columns).isin(dengue_data.columns).all()\n",
    "assert pd.Series(must_columns).isin(zika_data.columns).all()\n",
    "assert pd.Series(must_columns).isin(malaria_data.columns).all()"
   ]
  },
  {
   "cell_type": "code",
   "execution_count": 31,
   "metadata": {},
   "outputs": [],
   "source": [
    "# may be doing with the week number \n",
    "# clean up the country column\n",
    "# Merge the malaria data\n",
    "    ## Instead of the spikes by country and we just cateorize it by the continent - that way we only have the 7 thingst to  manupulate\n",
    "    \n",
    "# weekly counts is safer"
   ]
  },
  {
   "cell_type": "code",
   "execution_count": 32,
   "metadata": {},
   "outputs": [],
   "source": [
    "df = pd.concat([covid_data[must_columns],\n",
    "                zika_data[must_columns],\n",
    "                dengue_data[must_columns],\n",
    "               malaria_data[must_columns]])\n",
    "\n",
    "df['week'] = df.date.dt.week"
   ]
  },
  {
   "cell_type": "code",
   "execution_count": 33,
   "metadata": {},
   "outputs": [
    {
     "data": {
      "text/html": [
       "<div>\n",
       "<style scoped>\n",
       "    .dataframe tbody tr th:only-of-type {\n",
       "        vertical-align: middle;\n",
       "    }\n",
       "\n",
       "    .dataframe tbody tr th {\n",
       "        vertical-align: top;\n",
       "    }\n",
       "\n",
       "    .dataframe thead th {\n",
       "        text-align: right;\n",
       "    }\n",
       "</style>\n",
       "<table border=\"1\" class=\"dataframe\">\n",
       "  <thead>\n",
       "    <tr style=\"text-align: right;\">\n",
       "      <th></th>\n",
       "      <th>country</th>\n",
       "      <th>date</th>\n",
       "      <th>year</th>\n",
       "      <th>month</th>\n",
       "      <th>day</th>\n",
       "      <th>transmission_mode</th>\n",
       "      <th>no_cases</th>\n",
       "      <th>no_deaths</th>\n",
       "      <th>cumulative_cases</th>\n",
       "      <th>cumulative_deaths</th>\n",
       "      <th>disease</th>\n",
       "      <th>week</th>\n",
       "    </tr>\n",
       "  </thead>\n",
       "  <tbody>\n",
       "    <tr>\n",
       "      <th>0</th>\n",
       "      <td>Afghanistan</td>\n",
       "      <td>2020-01-22</td>\n",
       "      <td>2020</td>\n",
       "      <td>1</td>\n",
       "      <td>22</td>\n",
       "      <td>air</td>\n",
       "      <td>0.0</td>\n",
       "      <td>0.0</td>\n",
       "      <td>0.0</td>\n",
       "      <td>0.0</td>\n",
       "      <td>covid-19</td>\n",
       "      <td>4</td>\n",
       "    </tr>\n",
       "    <tr>\n",
       "      <th>1</th>\n",
       "      <td>Afghanistan</td>\n",
       "      <td>2020-01-23</td>\n",
       "      <td>2020</td>\n",
       "      <td>1</td>\n",
       "      <td>23</td>\n",
       "      <td>air</td>\n",
       "      <td>0.0</td>\n",
       "      <td>0.0</td>\n",
       "      <td>0.0</td>\n",
       "      <td>0.0</td>\n",
       "      <td>covid-19</td>\n",
       "      <td>4</td>\n",
       "    </tr>\n",
       "    <tr>\n",
       "      <th>2</th>\n",
       "      <td>Afghanistan</td>\n",
       "      <td>2020-01-24</td>\n",
       "      <td>2020</td>\n",
       "      <td>1</td>\n",
       "      <td>24</td>\n",
       "      <td>air</td>\n",
       "      <td>0.0</td>\n",
       "      <td>0.0</td>\n",
       "      <td>0.0</td>\n",
       "      <td>0.0</td>\n",
       "      <td>covid-19</td>\n",
       "      <td>4</td>\n",
       "    </tr>\n",
       "    <tr>\n",
       "      <th>3</th>\n",
       "      <td>Afghanistan</td>\n",
       "      <td>2020-01-25</td>\n",
       "      <td>2020</td>\n",
       "      <td>1</td>\n",
       "      <td>25</td>\n",
       "      <td>air</td>\n",
       "      <td>0.0</td>\n",
       "      <td>0.0</td>\n",
       "      <td>0.0</td>\n",
       "      <td>0.0</td>\n",
       "      <td>covid-19</td>\n",
       "      <td>4</td>\n",
       "    </tr>\n",
       "    <tr>\n",
       "      <th>4</th>\n",
       "      <td>Afghanistan</td>\n",
       "      <td>2020-01-26</td>\n",
       "      <td>2020</td>\n",
       "      <td>1</td>\n",
       "      <td>26</td>\n",
       "      <td>air</td>\n",
       "      <td>0.0</td>\n",
       "      <td>0.0</td>\n",
       "      <td>0.0</td>\n",
       "      <td>0.0</td>\n",
       "      <td>covid-19</td>\n",
       "      <td>4</td>\n",
       "    </tr>\n",
       "  </tbody>\n",
       "</table>\n",
       "</div>"
      ],
      "text/plain": [
       "       country       date  year month  day transmission_mode  no_cases  \\\n",
       "0  Afghanistan 2020-01-22  2020     1   22               air       0.0   \n",
       "1  Afghanistan 2020-01-23  2020     1   23               air       0.0   \n",
       "2  Afghanistan 2020-01-24  2020     1   24               air       0.0   \n",
       "3  Afghanistan 2020-01-25  2020     1   25               air       0.0   \n",
       "4  Afghanistan 2020-01-26  2020     1   26               air       0.0   \n",
       "\n",
       "   no_deaths  cumulative_cases  cumulative_deaths   disease  week  \n",
       "0        0.0               0.0                0.0  covid-19     4  \n",
       "1        0.0               0.0                0.0  covid-19     4  \n",
       "2        0.0               0.0                0.0  covid-19     4  \n",
       "3        0.0               0.0                0.0  covid-19     4  \n",
       "4        0.0               0.0                0.0  covid-19     4  "
      ]
     },
     "execution_count": 33,
     "metadata": {},
     "output_type": "execute_result"
    }
   ],
   "source": [
    "df.head()"
   ]
  },
  {
   "cell_type": "code",
   "execution_count": null,
   "metadata": {},
   "outputs": [],
   "source": []
  }
 ],
 "metadata": {
  "kernelspec": {
   "display_name": "Python 3",
   "language": "python",
   "name": "python3"
  },
  "language_info": {
   "codemirror_mode": {
    "name": "ipython",
    "version": 3
   },
   "file_extension": ".py",
   "mimetype": "text/x-python",
   "name": "python",
   "nbconvert_exporter": "python",
   "pygments_lexer": "ipython3",
   "version": "3.6.5"
  }
 },
 "nbformat": 4,
 "nbformat_minor": 2
}
