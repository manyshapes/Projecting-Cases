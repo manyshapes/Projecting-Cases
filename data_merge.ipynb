{
 "cells": [
  {
   "cell_type": "code",
   "execution_count": 1,
   "metadata": {},
   "outputs": [],
   "source": [
    "import pandas as pd\n",
    "import numpy as np\n",
    "import seaborn as sns\n",
    "import matplotlib.pyplot as plt"
   ]
  },
  {
   "cell_type": "code",
   "execution_count": 2,
   "metadata": {},
   "outputs": [],
   "source": [
    "%matplotlib inline"
   ]
  },
  {
   "cell_type": "markdown",
   "metadata": {},
   "source": [
    "## Reading the Covid, Zika and Dengue datasets here"
   ]
  },
  {
   "cell_type": "code",
   "execution_count": 3,
   "metadata": {},
   "outputs": [],
   "source": [
    "covid_data = pd.read_csv('Datasets/covid_19_data.csv.gz')\n",
    "dengue_data = pd.read_csv('Datasets/dengue_data.csv.gz')\n",
    "zika_data = pd.read_csv('zika/zika16to18.csv')\n",
    "\n",
    "zika_data.columns = ['_'.join(c.lower().split(' ')) for c in zika_data.columns]\n",
    "zika_data = zika_data.rename(columns= {'noncumulative_confirmed': 'no_cases',\n",
    "                                       'noncumulative_zika_case_deaths': 'no_deaths',\n",
    "                                       'confirmed': 'cumulative_cases',\n",
    "                                       'zika_case_deaths': 'cumulative_deaths',\n",
    "                                       'country/territory': 'country'})\n",
    "\n",
    "dengue_data['date'] = pd.to_datetime(dengue_data.date)\n",
    "covid_data['date'] = pd.to_datetime(covid_data.date)\n",
    "zika_data['date'] = pd.to_datetime(zika_data.date)"
   ]
  },
  {
   "cell_type": "markdown",
   "metadata": {},
   "source": [
    "### Adding the disease and transmission_mode columns"
   ]
  },
  {
   "cell_type": "code",
   "execution_count": 4,
   "metadata": {},
   "outputs": [],
   "source": [
    "# covid_data['disease'] = 'covid-19'\n",
    "# dengue_data['disease'] = 'dengue'\n",
    "# zika_data['disease'] = 'zika'\n",
    "\n",
    "covid_data['transmission_mode'] = 'air'\n",
    "dengue_data['transmission_mode'] = 'mosquito'\n",
    "zika_data['transmission_mode'] = 'mosquito'"
   ]
  },
  {
   "cell_type": "markdown",
   "metadata": {},
   "source": [
    "### Checking if the must columns are present in the datasets are not"
   ]
  },
  {
   "cell_type": "code",
   "execution_count": 5,
   "metadata": {},
   "outputs": [],
   "source": [
    "must_columns = ['country','date','year','month','day','transmission_mode',\n",
    "                'no_cases','no_deaths','cumulative_cases','cumulative_deaths']\n",
    "\n",
    "assert pd.Series(must_columns).isin(covid_data.columns).all()\n",
    "assert pd.Series(must_columns).isin(dengue_data.columns).all()\n",
    "assert pd.Series(must_columns).isin(zika_data.columns).all()"
   ]
  }
 ],
 "metadata": {
  "kernelspec": {
   "display_name": "Python 3",
   "language": "python",
   "name": "python3"
  },
  "language_info": {
   "codemirror_mode": {
    "name": "ipython",
    "version": 3
   },
   "file_extension": ".py",
   "mimetype": "text/x-python",
   "name": "python",
   "nbconvert_exporter": "python",
   "pygments_lexer": "ipython3",
   "version": "3.7.3"
  }
 },
 "nbformat": 4,
 "nbformat_minor": 2
}
