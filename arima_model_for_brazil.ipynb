{
 "cells": [
  {
   "cell_type": "code",
   "execution_count": 1,
   "metadata": {},
   "outputs": [],
   "source": [
    "import numpy as np\n",
    "import pandas as pd\n",
    "import matplotlib.pylab as plt\n",
    "%matplotlib inline\n",
    "from matplotlib.pylab import rcParams\n",
    "rcParams['figure.figsize'] = 10, 6\n",
    "import seaborn as sns\n",
    "from statsmodels.tsa.arima.model import ARIMA\n",
    "from sklearn.metrics import mean_squared_error"
   ]
  },
  {
   "cell_type": "code",
   "execution_count": 2,
   "metadata": {},
   "outputs": [],
   "source": [
    "import warnings\n",
    "warnings.filterwarnings('ignore')"
   ]
  },
  {
   "cell_type": "code",
   "execution_count": 3,
   "metadata": {},
   "outputs": [],
   "source": [
    "df = pd.read_csv(\"Datasets/all_diseases.csv.gz\")"
   ]
  },
  {
   "cell_type": "code",
   "execution_count": 4,
   "metadata": {},
   "outputs": [
    {
     "data": {
      "text/html": [
       "<div>\n",
       "<style scoped>\n",
       "    .dataframe tbody tr th:only-of-type {\n",
       "        vertical-align: middle;\n",
       "    }\n",
       "\n",
       "    .dataframe tbody tr th {\n",
       "        vertical-align: top;\n",
       "    }\n",
       "\n",
       "    .dataframe thead th {\n",
       "        text-align: right;\n",
       "    }\n",
       "</style>\n",
       "<table border=\"1\" class=\"dataframe\">\n",
       "  <thead>\n",
       "    <tr style=\"text-align: right;\">\n",
       "      <th></th>\n",
       "      <th>country</th>\n",
       "      <th>date</th>\n",
       "      <th>year</th>\n",
       "      <th>month</th>\n",
       "      <th>transmission_mode</th>\n",
       "      <th>no_cases</th>\n",
       "      <th>no_deaths</th>\n",
       "      <th>cumulative_cases</th>\n",
       "      <th>cumulative_deaths</th>\n",
       "      <th>disease</th>\n",
       "      <th>week</th>\n",
       "    </tr>\n",
       "  </thead>\n",
       "  <tbody>\n",
       "    <tr>\n",
       "      <th>0</th>\n",
       "      <td>Afghanistan</td>\n",
       "      <td>2020-01-22</td>\n",
       "      <td>2020</td>\n",
       "      <td>1</td>\n",
       "      <td>air</td>\n",
       "      <td>0.0</td>\n",
       "      <td>0.0</td>\n",
       "      <td>0.0</td>\n",
       "      <td>0.0</td>\n",
       "      <td>covid-19</td>\n",
       "      <td>4</td>\n",
       "    </tr>\n",
       "    <tr>\n",
       "      <th>1</th>\n",
       "      <td>Afghanistan</td>\n",
       "      <td>2020-01-23</td>\n",
       "      <td>2020</td>\n",
       "      <td>1</td>\n",
       "      <td>air</td>\n",
       "      <td>0.0</td>\n",
       "      <td>0.0</td>\n",
       "      <td>0.0</td>\n",
       "      <td>0.0</td>\n",
       "      <td>covid-19</td>\n",
       "      <td>4</td>\n",
       "    </tr>\n",
       "    <tr>\n",
       "      <th>2</th>\n",
       "      <td>Afghanistan</td>\n",
       "      <td>2020-01-24</td>\n",
       "      <td>2020</td>\n",
       "      <td>1</td>\n",
       "      <td>air</td>\n",
       "      <td>0.0</td>\n",
       "      <td>0.0</td>\n",
       "      <td>0.0</td>\n",
       "      <td>0.0</td>\n",
       "      <td>covid-19</td>\n",
       "      <td>4</td>\n",
       "    </tr>\n",
       "    <tr>\n",
       "      <th>3</th>\n",
       "      <td>Afghanistan</td>\n",
       "      <td>2020-01-25</td>\n",
       "      <td>2020</td>\n",
       "      <td>1</td>\n",
       "      <td>air</td>\n",
       "      <td>0.0</td>\n",
       "      <td>0.0</td>\n",
       "      <td>0.0</td>\n",
       "      <td>0.0</td>\n",
       "      <td>covid-19</td>\n",
       "      <td>4</td>\n",
       "    </tr>\n",
       "    <tr>\n",
       "      <th>4</th>\n",
       "      <td>Afghanistan</td>\n",
       "      <td>2020-01-26</td>\n",
       "      <td>2020</td>\n",
       "      <td>1</td>\n",
       "      <td>air</td>\n",
       "      <td>0.0</td>\n",
       "      <td>0.0</td>\n",
       "      <td>0.0</td>\n",
       "      <td>0.0</td>\n",
       "      <td>covid-19</td>\n",
       "      <td>4</td>\n",
       "    </tr>\n",
       "  </tbody>\n",
       "</table>\n",
       "</div>"
      ],
      "text/plain": [
       "       country        date  year  month transmission_mode  no_cases  \\\n",
       "0  Afghanistan  2020-01-22  2020      1               air       0.0   \n",
       "1  Afghanistan  2020-01-23  2020      1               air       0.0   \n",
       "2  Afghanistan  2020-01-24  2020      1               air       0.0   \n",
       "3  Afghanistan  2020-01-25  2020      1               air       0.0   \n",
       "4  Afghanistan  2020-01-26  2020      1               air       0.0   \n",
       "\n",
       "   no_deaths  cumulative_cases  cumulative_deaths   disease  week  \n",
       "0        0.0               0.0                0.0  covid-19     4  \n",
       "1        0.0               0.0                0.0  covid-19     4  \n",
       "2        0.0               0.0                0.0  covid-19     4  \n",
       "3        0.0               0.0                0.0  covid-19     4  \n",
       "4        0.0               0.0                0.0  covid-19     4  "
      ]
     },
     "execution_count": 4,
     "metadata": {},
     "output_type": "execute_result"
    }
   ],
   "source": [
    "df.head()"
   ]
  },
  {
   "cell_type": "code",
   "execution_count": 5,
   "metadata": {},
   "outputs": [],
   "source": [
    "df.loc[(df.disease.isin(['dengue'])) & \n",
    "       (df.no_cases.isin([-45491.0])), \n",
    "       'no_cases'] = 45491.0"
   ]
  },
  {
   "cell_type": "code",
   "execution_count": 6,
   "metadata": {},
   "outputs": [
    {
     "data": {
      "text/html": [
       "<div>\n",
       "<style scoped>\n",
       "    .dataframe tbody tr th:only-of-type {\n",
       "        vertical-align: middle;\n",
       "    }\n",
       "\n",
       "    .dataframe tbody tr th {\n",
       "        vertical-align: top;\n",
       "    }\n",
       "\n",
       "    .dataframe thead th {\n",
       "        text-align: right;\n",
       "    }\n",
       "</style>\n",
       "<table border=\"1\" class=\"dataframe\">\n",
       "  <thead>\n",
       "    <tr style=\"text-align: right;\">\n",
       "      <th></th>\n",
       "      <th>country</th>\n",
       "      <th>date</th>\n",
       "      <th>year</th>\n",
       "      <th>month</th>\n",
       "      <th>transmission_mode</th>\n",
       "      <th>no_cases</th>\n",
       "      <th>no_deaths</th>\n",
       "      <th>cumulative_cases</th>\n",
       "      <th>cumulative_deaths</th>\n",
       "      <th>disease</th>\n",
       "      <th>week</th>\n",
       "    </tr>\n",
       "  </thead>\n",
       "  <tbody>\n",
       "    <tr>\n",
       "      <th>162774</th>\n",
       "      <td>Brazil</td>\n",
       "      <td>2018-08-05</td>\n",
       "      <td>2018</td>\n",
       "      <td>8</td>\n",
       "      <td>mosquito</td>\n",
       "      <td>45491.0</td>\n",
       "      <td>5.0</td>\n",
       "      <td>193898.0</td>\n",
       "      <td>92.0</td>\n",
       "      <td>dengue</td>\n",
       "      <td>31</td>\n",
       "    </tr>\n",
       "  </tbody>\n",
       "</table>\n",
       "</div>"
      ],
      "text/plain": [
       "       country        date  year  month transmission_mode  no_cases  \\\n",
       "162774  Brazil  2018-08-05  2018      8          mosquito   45491.0   \n",
       "\n",
       "        no_deaths  cumulative_cases  cumulative_deaths disease  week  \n",
       "162774        5.0          193898.0               92.0  dengue    31  "
      ]
     },
     "execution_count": 6,
     "metadata": {},
     "output_type": "execute_result"
    }
   ],
   "source": [
    "df.loc[df.disease.isin(['dengue']) & df.no_cases.isin([45491.0])]"
   ]
  },
  {
   "cell_type": "code",
   "execution_count": 7,
   "metadata": {},
   "outputs": [
    {
     "name": "stdout",
     "output_type": "stream",
     "text": [
      "            no_cases\n",
      "date                \n",
      "2020-01-22       0.0\n",
      "2020-01-23       0.0\n",
      "2020-01-24       0.0\n",
      "2020-01-25       0.0\n",
      "2020-01-26       0.0\n",
      "...              ...\n",
      "2000-12-31       0.0\n",
      "2000-12-31       0.0\n",
      "2000-12-31       0.0\n",
      "2000-12-31       0.0\n",
      "2000-12-31       0.0\n",
      "\n",
      "[172952 rows x 1 columns]\n"
     ]
    }
   ],
   "source": [
    "x = df[['date', 'no_cases']].set_index('date')\n",
    "x = x.dropna(how='all')\n",
    "print(x)"
   ]
  },
  {
   "cell_type": "code",
   "execution_count": 8,
   "metadata": {},
   "outputs": [
    {
     "data": {
      "text/plain": [
       "China                   19160\n",
       "Canada                   9383\n",
       "United Kingdom           6756\n",
       "France                   6756\n",
       "Australia                4504\n",
       "                        ...  \n",
       "Turkmenistan               14\n",
       "North Korea                11\n",
       "Congo                      10\n",
       "Côte d'Ivoire              10\n",
       "Syrian Arab Republic       10\n",
       "Name: country, Length: 221, dtype: int64"
      ]
     },
     "execution_count": 8,
     "metadata": {},
     "output_type": "execute_result"
    }
   ],
   "source": [
    "df.country.value_counts()"
   ]
  },
  {
   "cell_type": "code",
   "execution_count": 9,
   "metadata": {},
   "outputs": [
    {
     "data": {
      "text/plain": [
       "United States of America    938\n",
       "Name: country, dtype: int64"
      ]
     },
     "execution_count": 9,
     "metadata": {},
     "output_type": "execute_result"
    }
   ],
   "source": [
    "df[df.country.str.lower().str.contains('america')].country.value_counts()"
   ]
  },
  {
   "cell_type": "code",
   "execution_count": 10,
   "metadata": {},
   "outputs": [],
   "source": [
    "us_data = df[df.country.str.lower().str.contains('america')]"
   ]
  },
  {
   "cell_type": "code",
   "execution_count": 11,
   "metadata": {},
   "outputs": [],
   "source": [
    "us_data.date = pd.to_datetime(us_data.date)\n"
   ]
  },
  {
   "cell_type": "code",
   "execution_count": 12,
   "metadata": {},
   "outputs": [
    {
     "data": {
      "text/plain": [
       "dtype('<M8[ns]')"
      ]
     },
     "execution_count": 12,
     "metadata": {},
     "output_type": "execute_result"
    }
   ],
   "source": [
    "us_data.date.dtype"
   ]
  },
  {
   "cell_type": "code",
   "execution_count": 13,
   "metadata": {},
   "outputs": [
    {
     "data": {
      "text/plain": [
       "143002   2020-01-22\n",
       "143003   2020-01-23\n",
       "143004   2020-01-24\n",
       "143005   2020-01-25\n",
       "143006   2020-01-26\n",
       "Name: date, dtype: datetime64[ns]"
      ]
     },
     "execution_count": 13,
     "metadata": {},
     "output_type": "execute_result"
    }
   ],
   "source": [
    "us_data.date.head()"
   ]
  },
  {
   "cell_type": "code",
   "execution_count": 14,
   "metadata": {},
   "outputs": [],
   "source": [
    "cases_per_date = us_data.groupby(us_data.date.dt.to_period(\"M\"))[\"no_cases\"].sum().to_frame()"
   ]
  },
  {
   "cell_type": "code",
   "execution_count": 15,
   "metadata": {},
   "outputs": [
    {
     "data": {
      "text/plain": [
       "DatetimeIndex(['2015-01-01', '2015-02-01', '2015-03-01', '2015-04-01',\n",
       "               '2015-05-01', '2015-06-01', '2015-07-01', '2015-08-01',\n",
       "               '2015-09-01', '2015-10-01', '2015-11-01', '2015-12-01',\n",
       "               '2016-01-01', '2016-02-01', '2016-03-01', '2016-04-01',\n",
       "               '2016-05-01', '2016-06-01', '2016-07-01', '2016-08-01',\n",
       "               '2016-09-01', '2016-10-01', '2016-11-01', '2016-12-01',\n",
       "               '2017-01-01', '2017-02-01', '2017-03-01', '2017-04-01',\n",
       "               '2017-05-01', '2017-06-01', '2017-07-01', '2017-08-01',\n",
       "               '2017-09-01', '2017-10-01', '2017-11-01', '2017-12-01',\n",
       "               '2018-01-01', '2018-02-01', '2018-03-01', '2018-04-01',\n",
       "               '2018-05-01', '2018-06-01', '2018-07-01', '2018-08-01',\n",
       "               '2018-09-01', '2018-10-01', '2018-11-01', '2018-12-01',\n",
       "               '2019-01-01', '2019-02-01', '2019-03-01', '2019-04-01',\n",
       "               '2019-05-01', '2019-06-01', '2019-07-01', '2019-08-01',\n",
       "               '2019-09-01', '2019-10-01', '2019-11-01', '2019-12-01',\n",
       "               '2020-01-01', '2020-02-01', '2020-03-01', '2020-04-01',\n",
       "               '2020-05-01', '2020-06-01', '2020-07-01', '2020-08-01',\n",
       "               '2020-09-01', '2020-10-01', '2020-11-01', '2020-12-01',\n",
       "               '2021-01-01', '2021-02-01', '2021-03-01', '2021-04-01',\n",
       "               '2021-05-01', '2021-06-01', '2021-07-01', '2021-08-01'],\n",
       "              dtype='datetime64[ns]', name='date', freq='MS')"
      ]
     },
     "execution_count": 15,
     "metadata": {},
     "output_type": "execute_result"
    }
   ],
   "source": [
    "cases_per_date.index.to_timestamp()"
   ]
  },
  {
   "cell_type": "code",
   "execution_count": 16,
   "metadata": {},
   "outputs": [],
   "source": [
    "cases_per_date.index = pd.to_datetime(cases_per_date.index.to_timestamp())"
   ]
  },
  {
   "cell_type": "code",
   "execution_count": 17,
   "metadata": {},
   "outputs": [],
   "source": [
    "model_fit = ARIMA(cases_per_date, order=(1,1,1))\n",
    "fit = model_fit.fit()"
   ]
  },
  {
   "cell_type": "code",
   "execution_count": 18,
   "metadata": {},
   "outputs": [
    {
     "data": {
      "text/html": [
       "<table class=\"simpletable\">\n",
       "<caption>SARIMAX Results</caption>\n",
       "<tr>\n",
       "  <th>Dep. Variable:</th>       <td>no_cases</td>     <th>  No. Observations:  </th>    <td>80</td>    \n",
       "</tr>\n",
       "<tr>\n",
       "  <th>Model:</th>            <td>ARIMA(1, 1, 1)</td>  <th>  Log Likelihood     </th> <td>-1157.977</td>\n",
       "</tr>\n",
       "<tr>\n",
       "  <th>Date:</th>            <td>Sat, 07 Aug 2021</td> <th>  AIC                </th> <td>2321.954</td> \n",
       "</tr>\n",
       "<tr>\n",
       "  <th>Time:</th>                <td>13:34:47</td>     <th>  BIC                </th> <td>2329.062</td> \n",
       "</tr>\n",
       "<tr>\n",
       "  <th>Sample:</th>             <td>01-01-2015</td>    <th>  HQIC               </th> <td>2324.802</td> \n",
       "</tr>\n",
       "<tr>\n",
       "  <th></th>                   <td>- 08-01-2021</td>   <th>                     </th>     <td> </td>    \n",
       "</tr>\n",
       "<tr>\n",
       "  <th>Covariance Type:</th>        <td>opg</td>       <th>                     </th>     <td> </td>    \n",
       "</tr>\n",
       "</table>\n",
       "<table class=\"simpletable\">\n",
       "<tr>\n",
       "     <td></td>       <th>coef</th>     <th>std err</th>      <th>z</th>      <th>P>|z|</th>  <th>[0.025</th>    <th>0.975]</th>  \n",
       "</tr>\n",
       "<tr>\n",
       "  <th>ar.L1</th>  <td>   -0.0571</td> <td>    0.195</td> <td>   -0.293</td> <td> 0.770</td> <td>   -0.439</td> <td>    0.325</td>\n",
       "</tr>\n",
       "<tr>\n",
       "  <th>ma.L1</th>  <td>    0.5112</td> <td>    0.206</td> <td>    2.481</td> <td> 0.013</td> <td>    0.107</td> <td>    0.915</td>\n",
       "</tr>\n",
       "<tr>\n",
       "  <th>sigma2</th> <td> 3.427e+11</td> <td> 1.57e-12</td> <td> 2.19e+23</td> <td> 0.000</td> <td> 3.43e+11</td> <td> 3.43e+11</td>\n",
       "</tr>\n",
       "</table>\n",
       "<table class=\"simpletable\">\n",
       "<tr>\n",
       "  <th>Ljung-Box (L1) (Q):</th>         <td>0.01</td>     <th>  Jarque-Bera (JB):  </th> <td>1279.89</td>\n",
       "</tr>\n",
       "<tr>\n",
       "  <th>Prob(Q):</th>                    <td>0.94</td>     <th>  Prob(JB):          </th>  <td>0.00</td>  \n",
       "</tr>\n",
       "<tr>\n",
       "  <th>Heteroskedasticity (H):</th> <td>216386381.53</td> <th>  Skew:              </th>  <td>-1.98</td> \n",
       "</tr>\n",
       "<tr>\n",
       "  <th>Prob(H) (two-sided):</th>        <td>0.00</td>     <th>  Kurtosis:          </th>  <td>22.32</td> \n",
       "</tr>\n",
       "</table><br/><br/>Warnings:<br/>[1] Covariance matrix calculated using the outer product of gradients (complex-step).<br/>[2] Covariance matrix is singular or near-singular, with condition number 6.96e+38. Standard errors may be unstable."
      ],
      "text/plain": [
       "<class 'statsmodels.iolib.summary.Summary'>\n",
       "\"\"\"\n",
       "                               SARIMAX Results                                \n",
       "==============================================================================\n",
       "Dep. Variable:               no_cases   No. Observations:                   80\n",
       "Model:                 ARIMA(1, 1, 1)   Log Likelihood               -1157.977\n",
       "Date:                Sat, 07 Aug 2021   AIC                           2321.954\n",
       "Time:                        13:34:47   BIC                           2329.062\n",
       "Sample:                    01-01-2015   HQIC                          2324.802\n",
       "                         - 08-01-2021                                         \n",
       "Covariance Type:                  opg                                         \n",
       "==============================================================================\n",
       "                 coef    std err          z      P>|z|      [0.025      0.975]\n",
       "------------------------------------------------------------------------------\n",
       "ar.L1         -0.0571      0.195     -0.293      0.770      -0.439       0.325\n",
       "ma.L1          0.5112      0.206      2.481      0.013       0.107       0.915\n",
       "sigma2      3.427e+11   1.57e-12   2.19e+23      0.000    3.43e+11    3.43e+11\n",
       "===================================================================================\n",
       "Ljung-Box (L1) (Q):                   0.01   Jarque-Bera (JB):              1279.89\n",
       "Prob(Q):                              0.94   Prob(JB):                         0.00\n",
       "Heteroskedasticity (H):       216386381.53   Skew:                            -1.98\n",
       "Prob(H) (two-sided):                  0.00   Kurtosis:                        22.32\n",
       "===================================================================================\n",
       "\n",
       "Warnings:\n",
       "[1] Covariance matrix calculated using the outer product of gradients (complex-step).\n",
       "[2] Covariance matrix is singular or near-singular, with condition number 6.96e+38. Standard errors may be unstable.\n",
       "\"\"\""
      ]
     },
     "execution_count": 18,
     "metadata": {},
     "output_type": "execute_result"
    }
   ],
   "source": [
    "fit.summary()"
   ]
  },
  {
   "cell_type": "code",
   "execution_count": 19,
   "metadata": {},
   "outputs": [
    {
     "data": {
      "image/png": "[encoded data removed]",
      "text/plain": [
       "<Figure size 720x432 with 2 Axes>"
      ]
     },
     "metadata": {
      "needs_background": "light"
     },
     "output_type": "display_data"
    }
   ],
   "source": [
    "residuals = pd.DataFrame(fit.resid)\n",
    "fig, ax = plt.subplots(1,2)\n",
    "residuals.plot(title=\"Residuals\", ax=ax[0])\n",
    "residuals.plot(kind='kde', title='Density', ax=ax[1])\n",
    "plt.show()"
   ]
  },
  {
   "cell_type": "code",
   "execution_count": 20,
   "metadata": {},
   "outputs": [
    {
     "data": {
      "text/plain": [
       "[<matplotlib.lines.Line2D at 0x1311bc748>]"
      ]
     },
     "execution_count": 20,
     "metadata": {},
     "output_type": "execute_result"
    },
    {
     "data": {
      "image/png": "[encoded data removed]",
      "text/plain": [
       "<Figure size 720x432 with 1 Axes>"
      ]
     },
     "metadata": {
      "needs_background": "light"
     },
     "output_type": "display_data"
    }
   ],
   "source": [
    "plt.plot(cases_per_date)\n",
    "plt.plot(fit.fittedvalues, color='red')"
   ]
  },
  {
   "cell_type": "code",
   "execution_count": 21,
   "metadata": {},
   "outputs": [],
   "source": [
    "\n",
    "# Mean Absolute Percentage Error (MAPE)\n",
    "# Mean Error (ME)\n",
    "# Mean Absolute Error (MAE)\n",
    "# Mean Percentage Error (MPE)\n",
    "# Root Mean Squared Error (RMSE)\n",
    "# Lag 1 Autocorrelation of Error (ACF1)\n",
    "# Correlation between the Actual and the Forecast (corr)\n",
    "# Min-Max Error (minmax)\n",
    "\n",
    "\n",
    "\n",
    "def forecast_accuracy(forecast, actual):\n",
    "    mape = np.mean(np.abs(forecast - actual)/np.abs(actual))  # MAPE\n",
    "    me = np.mean(forecast - actual)             # ME\n",
    "    mae = np.mean(np.abs(forecast - actual))    # MAE\n",
    "    mpe = np.mean((forecast - actual)/actual)   # MPE\n",
    "    rmse = np.mean((forecast - actual)**2)**.5  # RMSE\n",
    "    corr = np.corrcoef(forecast, actual)[0,1]   # corr\n",
    "    mins = np.amin(np.hstack([forecast[:,None], \n",
    "                              actual[:,None]]), axis=1)\n",
    "    maxs = np.amax(np.hstack([forecast[:,None], \n",
    "                              actual[:,None]]), axis=1)\n",
    "    minmax = 1 - np.mean(mins/maxs)             # minmax\n",
    "#     acf1 = acf(fc-test)[1]                      # ACF1\n",
    "    return({'mape':mape, 'me':me, 'mae': mae, \n",
    "            'mpe': mpe, 'rmse':rmse, \n",
    "#             'acf1':acf1, \n",
    "            'corr':corr, 'minmax':minmax})\n"
   ]
  },
  {
   "cell_type": "code",
   "execution_count": 22,
   "metadata": {},
   "outputs": [
    {
     "data": {
      "text/plain": [
       "{'mape': inf,\n",
       " 'me': -2117.2954483037697,\n",
       " 'mae': 197592.89580702316,\n",
       " 'mpe': inf,\n",
       " 'rmse': 557110.8369596237,\n",
       " 'corr': 0.895576712272234,\n",
       " 'minmax': 0.5084142702344047}"
      ]
     },
     "execution_count": 22,
     "metadata": {},
     "output_type": "execute_result"
    }
   ],
   "source": [
    "forecast_accuracy(fit.fittedvalues, cases_per_date.no_cases)"
   ]
  },
  {
   "cell_type": "markdown",
   "metadata": {},
   "source": [
    "# Modeling with the Brazil country"
   ]
  },
  {
   "cell_type": "code",
   "execution_count": 23,
   "metadata": {},
   "outputs": [],
   "source": [
    "brazil_data_dengue = df[df.country.str.lower().str.contains('brazil') &\n",
    "                        df.disease.isin(['dengue'])]\n",
    "brazil_data_dengue.date = pd.to_datetime(brazil_data_dengue.date)"
   ]
  },
  {
   "cell_type": "code",
   "execution_count": 24,
   "metadata": {},
   "outputs": [
    {
     "data": {
      "text/html": [
       "<div>\n",
       "<style scoped>\n",
       "    .dataframe tbody tr th:only-of-type {\n",
       "        vertical-align: middle;\n",
       "    }\n",
       "\n",
       "    .dataframe tbody tr th {\n",
       "        vertical-align: top;\n",
       "    }\n",
       "\n",
       "    .dataframe thead th {\n",
       "        text-align: right;\n",
       "    }\n",
       "</style>\n",
       "<table border=\"1\" class=\"dataframe\">\n",
       "  <thead>\n",
       "    <tr style=\"text-align: right;\">\n",
       "      <th></th>\n",
       "      <th>country</th>\n",
       "      <th>date</th>\n",
       "      <th>year</th>\n",
       "      <th>month</th>\n",
       "      <th>transmission_mode</th>\n",
       "      <th>no_cases</th>\n",
       "      <th>no_deaths</th>\n",
       "      <th>cumulative_cases</th>\n",
       "      <th>cumulative_deaths</th>\n",
       "      <th>disease</th>\n",
       "      <th>week</th>\n",
       "    </tr>\n",
       "  </thead>\n",
       "  <tbody>\n",
       "    <tr>\n",
       "      <th>162772</th>\n",
       "      <td>Brazil</td>\n",
       "      <td>2018-07-08</td>\n",
       "      <td>2018</td>\n",
       "      <td>7</td>\n",
       "      <td>mosquito</td>\n",
       "      <td>10225.0</td>\n",
       "      <td>3.0</td>\n",
       "      <td>181807.0</td>\n",
       "      <td>80.0</td>\n",
       "      <td>dengue</td>\n",
       "      <td>27</td>\n",
       "    </tr>\n",
       "    <tr>\n",
       "      <th>162773</th>\n",
       "      <td>Brazil</td>\n",
       "      <td>2018-07-22</td>\n",
       "      <td>2018</td>\n",
       "      <td>7</td>\n",
       "      <td>mosquito</td>\n",
       "      <td>57582.0</td>\n",
       "      <td>7.0</td>\n",
       "      <td>239389.0</td>\n",
       "      <td>87.0</td>\n",
       "      <td>dengue</td>\n",
       "      <td>29</td>\n",
       "    </tr>\n",
       "    <tr>\n",
       "      <th>162774</th>\n",
       "      <td>Brazil</td>\n",
       "      <td>2018-08-05</td>\n",
       "      <td>2018</td>\n",
       "      <td>8</td>\n",
       "      <td>mosquito</td>\n",
       "      <td>45491.0</td>\n",
       "      <td>5.0</td>\n",
       "      <td>193898.0</td>\n",
       "      <td>92.0</td>\n",
       "      <td>dengue</td>\n",
       "      <td>31</td>\n",
       "    </tr>\n",
       "    <tr>\n",
       "      <th>162775</th>\n",
       "      <td>Brazil</td>\n",
       "      <td>2018-08-19</td>\n",
       "      <td>2018</td>\n",
       "      <td>8</td>\n",
       "      <td>mosquito</td>\n",
       "      <td>4886.0</td>\n",
       "      <td>8.0</td>\n",
       "      <td>198784.0</td>\n",
       "      <td>100.0</td>\n",
       "      <td>dengue</td>\n",
       "      <td>33</td>\n",
       "    </tr>\n",
       "  </tbody>\n",
       "</table>\n",
       "</div>"
      ],
      "text/plain": [
       "       country       date  year  month transmission_mode  no_cases  no_deaths  \\\n",
       "162772  Brazil 2018-07-08  2018      7          mosquito   10225.0        3.0   \n",
       "162773  Brazil 2018-07-22  2018      7          mosquito   57582.0        7.0   \n",
       "162774  Brazil 2018-08-05  2018      8          mosquito   45491.0        5.0   \n",
       "162775  Brazil 2018-08-19  2018      8          mosquito    4886.0        8.0   \n",
       "\n",
       "        cumulative_cases  cumulative_deaths disease  week  \n",
       "162772          181807.0               80.0  dengue    27  \n",
       "162773          239389.0               87.0  dengue    29  \n",
       "162774          193898.0               92.0  dengue    31  \n",
       "162775          198784.0              100.0  dengue    33  "
      ]
     },
     "execution_count": 24,
     "metadata": {},
     "output_type": "execute_result"
    }
   ],
   "source": [
    "brazil_data_dengue[brazil_data_dengue.date.dt.year.isin([2018]) &\n",
    "                   brazil_data_dengue.date.dt.month.isin([7,8])]"
   ]
  },
  {
   "cell_type": "code",
   "execution_count": 166,
   "metadata": {},
   "outputs": [],
   "source": [
    "import datetime\n",
    "from dateutil.relativedelta import relativedelta\n",
    "\n",
    "start = datetime.datetime.strptime(\"2021-01-01\", \"%Y-%m-%d\")\n",
    "date_list = [start + relativedelta(months=x) for x in range(0,6)]\n",
    "# date_list = ['2021-01-03', '2021-01-10','2021-01-17','2021-01-24','2021-01-31',\n",
    "#              '2021-02-07', '2021-02-14', '2021-02-21']\n",
    "\n",
    "\n",
    "test_df = pd.DataFrame(date_list, columns= ['date'])\n",
    "test_df.date = pd.to_datetime(test_df.date)\n",
    "test_df['no_cases'] = np.nan\n",
    "test_df = test_df.fillna(0)"
   ]
  },
  {
   "cell_type": "code",
   "execution_count": 167,
   "metadata": {},
   "outputs": [
    {
     "data": {
      "text/plain": [
       "[datetime.datetime(2021, 1, 1, 0, 0),\n",
       " datetime.datetime(2021, 2, 1, 0, 0),\n",
       " datetime.datetime(2021, 3, 1, 0, 0),\n",
       " datetime.datetime(2021, 4, 1, 0, 0),\n",
       " datetime.datetime(2021, 5, 1, 0, 0),\n",
       " datetime.datetime(2021, 6, 1, 0, 0)]"
      ]
     },
     "execution_count": 167,
     "metadata": {},
     "output_type": "execute_result"
    }
   ],
   "source": [
    "date_list"
   ]
  },
  {
   "cell_type": "code",
   "execution_count": 168,
   "metadata": {},
   "outputs": [
    {
     "data": {
      "text/plain": [
       "date        datetime64[ns]\n",
       "no_cases           float64\n",
       "dtype: object"
      ]
     },
     "execution_count": 168,
     "metadata": {},
     "output_type": "execute_result"
    }
   ],
   "source": [
    "test_df.dtypes"
   ]
  },
  {
   "cell_type": "code",
   "execution_count": 193,
   "metadata": {},
   "outputs": [],
   "source": [
    "fit_data = pd.concat([brazil_data_dengue[['date','no_cases']], test_df])\n",
    "train_data = fit_data[(fit_data.date >= pd.to_datetime('2015-01-01')) & \n",
    "                      (fit_data.date <= pd.to_datetime('2019-12-31'))].set_index('date')\n",
    "\n",
    "predict_data = fit_data[fit_data.date.dt.year.isin([2019, 2020,2021])].set_index('date')"
   ]
  },
  {
   "cell_type": "code",
   "execution_count": 194,
   "metadata": {},
   "outputs": [
    {
     "data": {
      "text/html": [
       "<div>\n",
       "<style scoped>\n",
       "    .dataframe tbody tr th:only-of-type {\n",
       "        vertical-align: middle;\n",
       "    }\n",
       "\n",
       "    .dataframe tbody tr th {\n",
       "        vertical-align: top;\n",
       "    }\n",
       "\n",
       "    .dataframe thead th {\n",
       "        text-align: right;\n",
       "    }\n",
       "</style>\n",
       "<table border=\"1\" class=\"dataframe\">\n",
       "  <thead>\n",
       "    <tr style=\"text-align: right;\">\n",
       "      <th></th>\n",
       "      <th>no_cases</th>\n",
       "    </tr>\n",
       "    <tr>\n",
       "      <th>date</th>\n",
       "      <th></th>\n",
       "    </tr>\n",
       "  </thead>\n",
       "  <tbody>\n",
       "    <tr>\n",
       "      <th>2015-01-04</th>\n",
       "      <td>11401.0</td>\n",
       "    </tr>\n",
       "    <tr>\n",
       "      <th>2015-01-11</th>\n",
       "      <td>15181.0</td>\n",
       "    </tr>\n",
       "    <tr>\n",
       "      <th>2015-01-18</th>\n",
       "      <td>23275.0</td>\n",
       "    </tr>\n",
       "    <tr>\n",
       "      <th>2015-01-25</th>\n",
       "      <td>29184.0</td>\n",
       "    </tr>\n",
       "    <tr>\n",
       "      <th>2015-02-01</th>\n",
       "      <td>37411.0</td>\n",
       "    </tr>\n",
       "  </tbody>\n",
       "</table>\n",
       "</div>"
      ],
      "text/plain": [
       "            no_cases\n",
       "date                \n",
       "2015-01-04   11401.0\n",
       "2015-01-11   15181.0\n",
       "2015-01-18   23275.0\n",
       "2015-01-25   29184.0\n",
       "2015-02-01   37411.0"
      ]
     },
     "execution_count": 194,
     "metadata": {},
     "output_type": "execute_result"
    }
   ],
   "source": [
    "train_data.head()"
   ]
  },
  {
   "cell_type": "markdown",
   "metadata": {},
   "source": [
    "## Using the auto arima"
   ]
  },
  {
   "cell_type": "code",
   "execution_count": 195,
   "metadata": {},
   "outputs": [],
   "source": [
    "from pmdarima.arima import auto_arima"
   ]
  },
  {
   "cell_type": "code",
   "execution_count": 196,
   "metadata": {},
   "outputs": [
    {
     "data": {
      "text/html": [
       "<table class=\"simpletable\">\n",
       "<caption>SARIMAX Results</caption>\n",
       "<tr>\n",
       "  <th>Dep. Variable:</th>           <td>y</td>        <th>  No. Observations:  </th>    <td>243</td>   \n",
       "</tr>\n",
       "<tr>\n",
       "  <th>Model:</th>           <td>SARIMAX(2, 0, 1)</td> <th>  Log Likelihood     </th> <td>-2494.089</td>\n",
       "</tr>\n",
       "<tr>\n",
       "  <th>Date:</th>            <td>Sat, 07 Aug 2021</td> <th>  AIC                </th> <td>4998.178</td> \n",
       "</tr>\n",
       "<tr>\n",
       "  <th>Time:</th>                <td>14:38:37</td>     <th>  BIC                </th> <td>5015.644</td> \n",
       "</tr>\n",
       "<tr>\n",
       "  <th>Sample:</th>                  <td>0</td>        <th>  HQIC               </th> <td>5005.213</td> \n",
       "</tr>\n",
       "<tr>\n",
       "  <th></th>                      <td> - 243</td>      <th>                     </th>     <td> </td>    \n",
       "</tr>\n",
       "<tr>\n",
       "  <th>Covariance Type:</th>        <td>opg</td>       <th>                     </th>     <td> </td>    \n",
       "</tr>\n",
       "</table>\n",
       "<table class=\"simpletable\">\n",
       "<tr>\n",
       "      <td></td>         <th>coef</th>     <th>std err</th>      <th>z</th>      <th>P>|z|</th>  <th>[0.025</th>    <th>0.975]</th>  \n",
       "</tr>\n",
       "<tr>\n",
       "  <th>intercept</th> <td>  464.1858</td> <td>  248.861</td> <td>    1.865</td> <td> 0.062</td> <td>  -23.572</td> <td>  951.943</td>\n",
       "</tr>\n",
       "<tr>\n",
       "  <th>ar.L1</th>     <td>    1.8809</td> <td>    0.087</td> <td>   21.526</td> <td> 0.000</td> <td>    1.710</td> <td>    2.052</td>\n",
       "</tr>\n",
       "<tr>\n",
       "  <th>ar.L2</th>     <td>   -0.9003</td> <td>    0.085</td> <td>  -10.550</td> <td> 0.000</td> <td>   -1.068</td> <td>   -0.733</td>\n",
       "</tr>\n",
       "<tr>\n",
       "  <th>ma.L1</th>     <td>   -0.7366</td> <td>    0.110</td> <td>   -6.680</td> <td> 0.000</td> <td>   -0.953</td> <td>   -0.520</td>\n",
       "</tr>\n",
       "<tr>\n",
       "  <th>sigma2</th>    <td> 4.919e+07</td> <td>    0.009</td> <td>  5.4e+09</td> <td> 0.000</td> <td> 4.92e+07</td> <td> 4.92e+07</td>\n",
       "</tr>\n",
       "</table>\n",
       "<table class=\"simpletable\">\n",
       "<tr>\n",
       "  <th>Ljung-Box (L1) (Q):</th>     <td>1.49</td> <th>  Jarque-Bera (JB):  </th> <td>4304.33</td>\n",
       "</tr>\n",
       "<tr>\n",
       "  <th>Prob(Q):</th>                <td>0.22</td> <th>  Prob(JB):          </th>  <td>0.00</td>  \n",
       "</tr>\n",
       "<tr>\n",
       "  <th>Heteroskedasticity (H):</th> <td>1.62</td> <th>  Skew:              </th>  <td>1.37</td>  \n",
       "</tr>\n",
       "<tr>\n",
       "  <th>Prob(H) (two-sided):</th>    <td>0.03</td> <th>  Kurtosis:          </th>  <td>23.44</td> \n",
       "</tr>\n",
       "</table><br/><br/>Warnings:<br/>[1] Covariance matrix calculated using the outer product of gradients (complex-step).<br/>[2] Covariance matrix is singular or near-singular, with condition number 1.51e+26. Standard errors may be unstable."
      ],
      "text/plain": [
       "<class 'statsmodels.iolib.summary.Summary'>\n",
       "\"\"\"\n",
       "                               SARIMAX Results                                \n",
       "==============================================================================\n",
       "Dep. Variable:                      y   No. Observations:                  243\n",
       "Model:               SARIMAX(2, 0, 1)   Log Likelihood               -2494.089\n",
       "Date:                Sat, 07 Aug 2021   AIC                           4998.178\n",
       "Time:                        14:38:37   BIC                           5015.644\n",
       "Sample:                             0   HQIC                          5005.213\n",
       "                                - 243                                         \n",
       "Covariance Type:                  opg                                         \n",
       "==============================================================================\n",
       "                 coef    std err          z      P>|z|      [0.025      0.975]\n",
       "------------------------------------------------------------------------------\n",
       "intercept    464.1858    248.861      1.865      0.062     -23.572     951.943\n",
       "ar.L1          1.8809      0.087     21.526      0.000       1.710       2.052\n",
       "ar.L2         -0.9003      0.085    -10.550      0.000      -1.068      -0.733\n",
       "ma.L1         -0.7366      0.110     -6.680      0.000      -0.953      -0.520\n",
       "sigma2      4.919e+07      0.009    5.4e+09      0.000    4.92e+07    4.92e+07\n",
       "===================================================================================\n",
       "Ljung-Box (L1) (Q):                   1.49   Jarque-Bera (JB):              4304.33\n",
       "Prob(Q):                              0.22   Prob(JB):                         0.00\n",
       "Heteroskedasticity (H):               1.62   Skew:                             1.37\n",
       "Prob(H) (two-sided):                  0.03   Kurtosis:                        23.44\n",
       "===================================================================================\n",
       "\n",
       "Warnings:\n",
       "[1] Covariance matrix calculated using the outer product of gradients (complex-step).\n",
       "[2] Covariance matrix is singular or near-singular, with condition number 1.51e+26. Standard errors may be unstable.\n",
       "\"\"\""
      ]
     },
     "execution_count": 196,
     "metadata": {},
     "output_type": "execute_result"
    }
   ],
   "source": [
    "auto_arima_model = auto_arima(train_data[['no_cases']].fillna(method=\"bfill\"), random_state=42)\n",
    "auto_arima_model.summary()"
   ]
  },
  {
   "cell_type": "code",
   "execution_count": 197,
   "metadata": {},
   "outputs": [],
   "source": [
    "auto_arimaprediction = pd.DataFrame(auto_arima_model.predict(len(predict_data)),index=predict_data.index)\n",
    "auto_arimaprediction.columns = ['Predicted']"
   ]
  },
  {
   "cell_type": "code",
   "execution_count": 198,
   "metadata": {},
   "outputs": [
    {
     "data": {
      "text/html": [
       "<div>\n",
       "<style scoped>\n",
       "    .dataframe tbody tr th:only-of-type {\n",
       "        vertical-align: middle;\n",
       "    }\n",
       "\n",
       "    .dataframe tbody tr th {\n",
       "        vertical-align: top;\n",
       "    }\n",
       "\n",
       "    .dataframe thead th {\n",
       "        text-align: right;\n",
       "    }\n",
       "</style>\n",
       "<table border=\"1\" class=\"dataframe\">\n",
       "  <thead>\n",
       "    <tr style=\"text-align: right;\">\n",
       "      <th></th>\n",
       "      <th>Predicted</th>\n",
       "    </tr>\n",
       "    <tr>\n",
       "      <th>date</th>\n",
       "      <th></th>\n",
       "    </tr>\n",
       "  </thead>\n",
       "  <tbody>\n",
       "    <tr>\n",
       "      <th>2019-01-06</th>\n",
       "      <td>23211.441248</td>\n",
       "    </tr>\n",
       "    <tr>\n",
       "      <th>2019-01-13</th>\n",
       "      <td>25356.686075</td>\n",
       "    </tr>\n",
       "    <tr>\n",
       "      <th>2019-01-20</th>\n",
       "      <td>27260.260030</td>\n",
       "    </tr>\n",
       "    <tr>\n",
       "      <th>2019-01-27</th>\n",
       "      <td>28909.319228</td>\n",
       "    </tr>\n",
       "    <tr>\n",
       "      <th>2019-02-03</th>\n",
       "      <td>30297.238574</td>\n",
       "    </tr>\n",
       "  </tbody>\n",
       "</table>\n",
       "</div>"
      ],
      "text/plain": [
       "               Predicted\n",
       "date                    \n",
       "2019-01-06  23211.441248\n",
       "2019-01-13  25356.686075\n",
       "2019-01-20  27260.260030\n",
       "2019-01-27  28909.319228\n",
       "2019-02-03  30297.238574"
      ]
     },
     "execution_count": 198,
     "metadata": {},
     "output_type": "execute_result"
    }
   ],
   "source": [
    "auto_arimaprediction.head()"
   ]
  },
  {
   "cell_type": "code",
   "execution_count": 199,
   "metadata": {},
   "outputs": [
    {
     "data": {
      "text/plain": [
       "<matplotlib.axes._subplots.AxesSubplot at 0x137c82b38>"
      ]
     },
     "execution_count": 199,
     "metadata": {},
     "output_type": "execute_result"
    },
    {
     "data": {
      "image/png": "[encoded data removed]",
      "text/plain": [
       "<Figure size 1440x360 with 1 Axes>"
      ]
     },
     "metadata": {
      "needs_background": "light"
     },
     "output_type": "display_data"
    }
   ],
   "source": [
    "ax = fit_data.set_index('date').plot(y='no_cases',figsize=(20,5),title='Auto Arima Actual Vs Forecasted')\n",
    "auto_arimaprediction.plot(y='Predicted',figsize=(20,5),title='Actual vs Forecast', ax=ax)"
   ]
  },
  {
   "cell_type": "code",
   "execution_count": 200,
   "metadata": {},
   "outputs": [
    {
     "data": {
      "text/plain": [
       "<matplotlib.axes._subplots.AxesSubplot at 0x137d14080>"
      ]
     },
     "execution_count": 200,
     "metadata": {},
     "output_type": "execute_result"
    },
    {
     "data": {
      "image/png": "[encoded data removed]",
      "text/plain": [
       "<Figure size 1440x360 with 1 Axes>"
      ]
     },
     "metadata": {
      "needs_background": "light"
     },
     "output_type": "display_data"
    }
   ],
   "source": [
    "# Checking model fit on train data\n",
    "\n",
    "trainfitpredict = pd.DataFrame(auto_arima_model.predict_in_sample(), index=train_data.index)\n",
    "trainfitpredict.columns = ['no_cases']\n",
    "\n",
    "ax = train_data.plot(y='no_cases',figsize=(20,5),title='Actual Vs Forecasted')\n",
    "trainfitpredict.plot(y='no_cases',figsize=(20,5),title='Actual vs Forecast', ax=ax)"
   ]
  },
  {
   "cell_type": "code",
   "execution_count": 201,
   "metadata": {},
   "outputs": [
    {
     "data": {
      "text/html": [
       "<div>\n",
       "<style scoped>\n",
       "    .dataframe tbody tr th:only-of-type {\n",
       "        vertical-align: middle;\n",
       "    }\n",
       "\n",
       "    .dataframe tbody tr th {\n",
       "        vertical-align: top;\n",
       "    }\n",
       "\n",
       "    .dataframe thead th {\n",
       "        text-align: right;\n",
       "    }\n",
       "</style>\n",
       "<table border=\"1\" class=\"dataframe\">\n",
       "  <thead>\n",
       "    <tr style=\"text-align: right;\">\n",
       "      <th></th>\n",
       "      <th>no_cases</th>\n",
       "    </tr>\n",
       "    <tr>\n",
       "      <th>date</th>\n",
       "      <th></th>\n",
       "    </tr>\n",
       "  </thead>\n",
       "  <tbody>\n",
       "    <tr>\n",
       "      <th>2015-01-04</th>\n",
       "      <td>23923.100603</td>\n",
       "    </tr>\n",
       "    <tr>\n",
       "      <th>2015-01-11</th>\n",
       "      <td>11750.062135</td>\n",
       "    </tr>\n",
       "    <tr>\n",
       "      <th>2015-01-18</th>\n",
       "      <td>16658.753563</td>\n",
       "    </tr>\n",
       "    <tr>\n",
       "      <th>2015-01-25</th>\n",
       "      <td>26115.100039</td>\n",
       "    </tr>\n",
       "    <tr>\n",
       "      <th>2015-02-01</th>\n",
       "      <td>32240.962626</td>\n",
       "    </tr>\n",
       "  </tbody>\n",
       "</table>\n",
       "</div>"
      ],
      "text/plain": [
       "                no_cases\n",
       "date                    \n",
       "2015-01-04  23923.100603\n",
       "2015-01-11  11750.062135\n",
       "2015-01-18  16658.753563\n",
       "2015-01-25  26115.100039\n",
       "2015-02-01  32240.962626"
      ]
     },
     "execution_count": 201,
     "metadata": {},
     "output_type": "execute_result"
    }
   ],
   "source": [
    "trainfitpredict.head()"
   ]
  },
  {
   "cell_type": "markdown",
   "metadata": {},
   "source": [
    "# Classic Arima"
   ]
  },
  {
   "cell_type": "code",
   "execution_count": 202,
   "metadata": {},
   "outputs": [],
   "source": [
    "def aic_for_orders(train, pdq_values):\n",
    "    train = train.astype('float32')\n",
    "    ordersaic_d = {}\n",
    "    for current_pdq in pdq_values:\n",
    "        cur_model = ARIMA(train, order=current_pdq)\n",
    "        cur_results = cur_model.fit()\n",
    "        cur_aic = cur_results.aic\n",
    "        ordersaic_d[current_pdq] = cur_aic\n",
    "    return ordersaic_d\n",
    "\n",
    "def get_arima_predictions(train, test, order):\n",
    "    predictions = list()\n",
    "    for step in range(len(test)):\n",
    "        model = ARIMA(train,order=order)\n",
    "        fit_model = model.fit()\n",
    "        prediction = fit_model.forecast().values[0]\n",
    "        timestamp = test.index[step]\n",
    "        predictions.append((timestamp, prediction))\n",
    "        train = train.append(test.iloc[step])\n",
    "    preds_frame = pd.DataFrame(predictions).set_index([0]).rename(columns={1:'Predictions'})\n",
    "    return (preds_frame, fit_model)"
   ]
  },
  {
   "cell_type": "code",
   "execution_count": 203,
   "metadata": {},
   "outputs": [],
   "source": [
    "import itertools"
   ]
  },
  {
   "cell_type": "code",
   "execution_count": 204,
   "metadata": {},
   "outputs": [],
   "source": [
    "p = d = q = range(0,4)\n",
    "pdqlist = list(itertools.product(p, d, q))\n",
    "newordersaic_d = aic_for_orders(train=train_data[['no_cases']].fillna(method=\"bfill\"), pdq_values=pdqlist)"
   ]
  },
  {
   "cell_type": "code",
   "execution_count": 205,
   "metadata": {},
   "outputs": [
    {
     "data": {
      "text/plain": [
       "range(0, 4)"
      ]
     },
     "execution_count": 205,
     "metadata": {},
     "output_type": "execute_result"
    }
   ],
   "source": [
    "p"
   ]
  },
  {
   "cell_type": "code",
   "execution_count": 206,
   "metadata": {},
   "outputs": [
    {
     "data": {
      "text/plain": [
       "[Text(0, 0.5, '%'),\n",
       " Text(0.5, 0, 'orders'),\n",
       " Text(0.5, 1.0, 'pdq values and aic scores')]"
      ]
     },
     "execution_count": 206,
     "metadata": {},
     "output_type": "execute_result"
    },
    {
     "data": {
      "image/png": "[encoded data removed]",
      "text/plain": [
       "<Figure size 3168x288 with 1 Axes>"
      ]
     },
     "metadata": {
      "needs_background": "light"
     },
     "output_type": "display_data"
    }
   ],
   "source": [
    "orders_andaic = pd.DataFrame(newordersaic_d.items(),columns=['orders','aic']).sort_values(by='aic',ascending=True)\n",
    "\n",
    "fig_dims = (44, 4)\n",
    "fig, ax = plt.subplots(figsize=fig_dims)\n",
    "sns.barplot(x='orders', y='aic', data=orders_andaic)\n",
    "ax.set(xlabel = 'orders', ylabel='%', title='pdq values and aic scores')"
   ]
  },
  {
   "cell_type": "code",
   "execution_count": 207,
   "metadata": {},
   "outputs": [
    {
     "data": {
      "text/plain": [
       "'a'"
      ]
     },
     "execution_count": 207,
     "metadata": {},
     "output_type": "execute_result"
    }
   ],
   "source": [
    "pd.Series(['a']).values[0]"
   ]
  },
  {
   "cell_type": "code",
   "execution_count": 208,
   "metadata": {},
   "outputs": [
    {
     "data": {
      "text/html": [
       "<div>\n",
       "<style scoped>\n",
       "    .dataframe tbody tr th:only-of-type {\n",
       "        vertical-align: middle;\n",
       "    }\n",
       "\n",
       "    .dataframe tbody tr th {\n",
       "        vertical-align: top;\n",
       "    }\n",
       "\n",
       "    .dataframe thead th {\n",
       "        text-align: right;\n",
       "    }\n",
       "</style>\n",
       "<table border=\"1\" class=\"dataframe\">\n",
       "  <thead>\n",
       "    <tr style=\"text-align: right;\">\n",
       "      <th></th>\n",
       "      <th>orders</th>\n",
       "      <th>aic</th>\n",
       "    </tr>\n",
       "  </thead>\n",
       "  <tbody>\n",
       "    <tr>\n",
       "      <th>15</th>\n",
       "      <td>(0, 3, 3)</td>\n",
       "      <td>4969.114842</td>\n",
       "    </tr>\n",
       "    <tr>\n",
       "      <th>30</th>\n",
       "      <td>(1, 3, 2)</td>\n",
       "      <td>4970.697715</td>\n",
       "    </tr>\n",
       "    <tr>\n",
       "      <th>47</th>\n",
       "      <td>(2, 3, 3)</td>\n",
       "      <td>4970.831288</td>\n",
       "    </tr>\n",
       "    <tr>\n",
       "      <th>31</th>\n",
       "      <td>(1, 3, 3)</td>\n",
       "      <td>4971.636807</td>\n",
       "    </tr>\n",
       "    <tr>\n",
       "      <th>63</th>\n",
       "      <td>(3, 3, 3)</td>\n",
       "      <td>4972.997451</td>\n",
       "    </tr>\n",
       "  </tbody>\n",
       "</table>\n",
       "</div>"
      ],
      "text/plain": [
       "       orders          aic\n",
       "15  (0, 3, 3)  4969.114842\n",
       "30  (1, 3, 2)  4970.697715\n",
       "47  (2, 3, 3)  4970.831288\n",
       "31  (1, 3, 3)  4971.636807\n",
       "63  (3, 3, 3)  4972.997451"
      ]
     },
     "execution_count": 208,
     "metadata": {},
     "output_type": "execute_result"
    }
   ],
   "source": [
    "orders_andaic.head()"
   ]
  },
  {
   "cell_type": "code",
   "execution_count": 209,
   "metadata": {},
   "outputs": [],
   "source": [
    "arima_test_predictions, fit_model = get_arima_predictions(train_data[['no_cases']],\n",
    "                                               predict_data[['no_cases']],\n",
    "                                              order=(0,3,3))"
   ]
  },
  {
   "cell_type": "code",
   "execution_count": 210,
   "metadata": {},
   "outputs": [
    {
     "data": {
      "text/html": [
       "<div>\n",
       "<style scoped>\n",
       "    .dataframe tbody tr th:only-of-type {\n",
       "        vertical-align: middle;\n",
       "    }\n",
       "\n",
       "    .dataframe tbody tr th {\n",
       "        vertical-align: top;\n",
       "    }\n",
       "\n",
       "    .dataframe thead th {\n",
       "        text-align: right;\n",
       "    }\n",
       "</style>\n",
       "<table border=\"1\" class=\"dataframe\">\n",
       "  <thead>\n",
       "    <tr style=\"text-align: right;\">\n",
       "      <th></th>\n",
       "      <th>Predictions</th>\n",
       "    </tr>\n",
       "    <tr>\n",
       "      <th>0</th>\n",
       "      <th></th>\n",
       "    </tr>\n",
       "  </thead>\n",
       "  <tbody>\n",
       "    <tr>\n",
       "      <th>2020-12-06</th>\n",
       "      <td>7379.451721</td>\n",
       "    </tr>\n",
       "    <tr>\n",
       "      <th>2020-12-13</th>\n",
       "      <td>6104.933808</td>\n",
       "    </tr>\n",
       "    <tr>\n",
       "      <th>2020-12-20</th>\n",
       "      <td>4709.625622</td>\n",
       "    </tr>\n",
       "    <tr>\n",
       "      <th>2020-12-27</th>\n",
       "      <td>2931.447153</td>\n",
       "    </tr>\n",
       "    <tr>\n",
       "      <th>2021-01-01</th>\n",
       "      <td>739.495849</td>\n",
       "    </tr>\n",
       "    <tr>\n",
       "      <th>2021-02-01</th>\n",
       "      <td>-1318.764570</td>\n",
       "    </tr>\n",
       "    <tr>\n",
       "      <th>2021-03-01</th>\n",
       "      <td>-557.247269</td>\n",
       "    </tr>\n",
       "    <tr>\n",
       "      <th>2021-04-01</th>\n",
       "      <td>-571.757606</td>\n",
       "    </tr>\n",
       "    <tr>\n",
       "      <th>2021-05-01</th>\n",
       "      <td>-425.457646</td>\n",
       "    </tr>\n",
       "    <tr>\n",
       "      <th>2021-06-01</th>\n",
       "      <td>-352.246054</td>\n",
       "    </tr>\n",
       "  </tbody>\n",
       "</table>\n",
       "</div>"
      ],
      "text/plain": [
       "            Predictions\n",
       "0                      \n",
       "2020-12-06  7379.451721\n",
       "2020-12-13  6104.933808\n",
       "2020-12-20  4709.625622\n",
       "2020-12-27  2931.447153\n",
       "2021-01-01   739.495849\n",
       "2021-02-01 -1318.764570\n",
       "2021-03-01  -557.247269\n",
       "2021-04-01  -571.757606\n",
       "2021-05-01  -425.457646\n",
       "2021-06-01  -352.246054"
      ]
     },
     "execution_count": 210,
     "metadata": {},
     "output_type": "execute_result"
    }
   ],
   "source": [
    "arima_test_predictions.tail(10)"
   ]
  },
  {
   "cell_type": "code",
   "execution_count": 211,
   "metadata": {},
   "outputs": [
    {
     "data": {
      "text/plain": [
       "Predictions    float64\n",
       "dtype: object"
      ]
     },
     "execution_count": 211,
     "metadata": {},
     "output_type": "execute_result"
    }
   ],
   "source": [
    "arima_test_predictions.dtypes"
   ]
  },
  {
   "cell_type": "code",
   "execution_count": 212,
   "metadata": {},
   "outputs": [
    {
     "data": {
      "text/plain": [
       "<matplotlib.axes._subplots.AxesSubplot at 0x138c45e48>"
      ]
     },
     "execution_count": 212,
     "metadata": {},
     "output_type": "execute_result"
    },
    {
     "data": {
      "image/png": "[encoded data removed]",
      "text/plain": [
       "<Figure size 1440x360 with 1 Axes>"
      ]
     },
     "metadata": {
      "needs_background": "light"
     },
     "output_type": "display_data"
    }
   ],
   "source": [
    "ax = fit_data.set_index('date').plot(y='no_cases',figsize=(20,5),title='Actual Vs Forecasted')\n",
    "arima_test_predictions.plot(y='Predictions',figsize=(20,5),title='Actual vs Forecast', ax=ax)"
   ]
  },
  {
   "cell_type": "code",
   "execution_count": 213,
   "metadata": {
    "scrolled": true
   },
   "outputs": [
    {
     "data": {
      "text/plain": [
       "<matplotlib.axes._subplots.AxesSubplot at 0x138ca43c8>"
      ]
     },
     "execution_count": 213,
     "metadata": {},
     "output_type": "execute_result"
    },
    {
     "data": {
      "image/png": "[encoded data removed]",
      "text/plain": [
       "<Figure size 1440x360 with 1 Axes>"
      ]
     },
     "metadata": {
      "needs_background": "light"
     },
     "output_type": "display_data"
    }
   ],
   "source": [
    "ax = fit_data.tail(20).set_index('date').plot(y='no_cases',figsize=(20,5),title='Actual Vs Forecasted')\n",
    "arima_test_predictions_bla = arima_test_predictions[arima_test_predictions.Predictions > 0].tail(20)\n",
    "arima_test_predictions_bla.plot(y='Predictions',figsize=(20,5),title='Actual vs Forecast', ax=ax)"
   ]
  },
  {
   "cell_type": "code",
   "execution_count": 214,
   "metadata": {},
   "outputs": [
    {
     "data": {
      "text/html": [
       "<div>\n",
       "<style scoped>\n",
       "    .dataframe tbody tr th:only-of-type {\n",
       "        vertical-align: middle;\n",
       "    }\n",
       "\n",
       "    .dataframe tbody tr th {\n",
       "        vertical-align: top;\n",
       "    }\n",
       "\n",
       "    .dataframe thead th {\n",
       "        text-align: right;\n",
       "    }\n",
       "</style>\n",
       "<table border=\"1\" class=\"dataframe\">\n",
       "  <thead>\n",
       "    <tr style=\"text-align: right;\">\n",
       "      <th></th>\n",
       "      <th>date</th>\n",
       "      <th>no_cases</th>\n",
       "    </tr>\n",
       "  </thead>\n",
       "  <tbody>\n",
       "    <tr>\n",
       "      <th>162880</th>\n",
       "      <td>2020-09-27</td>\n",
       "      <td>6098.0</td>\n",
       "    </tr>\n",
       "    <tr>\n",
       "      <th>162881</th>\n",
       "      <td>2020-10-04</td>\n",
       "      <td>5634.0</td>\n",
       "    </tr>\n",
       "    <tr>\n",
       "      <th>162882</th>\n",
       "      <td>2020-10-11</td>\n",
       "      <td>5284.0</td>\n",
       "    </tr>\n",
       "    <tr>\n",
       "      <th>162883</th>\n",
       "      <td>2020-10-18</td>\n",
       "      <td>5499.0</td>\n",
       "    </tr>\n",
       "    <tr>\n",
       "      <th>162884</th>\n",
       "      <td>2020-10-25</td>\n",
       "      <td>4711.0</td>\n",
       "    </tr>\n",
       "    <tr>\n",
       "      <th>162885</th>\n",
       "      <td>2020-11-01</td>\n",
       "      <td>5778.0</td>\n",
       "    </tr>\n",
       "    <tr>\n",
       "      <th>162886</th>\n",
       "      <td>2020-11-08</td>\n",
       "      <td>6107.0</td>\n",
       "    </tr>\n",
       "    <tr>\n",
       "      <th>162887</th>\n",
       "      <td>2020-11-15</td>\n",
       "      <td>6822.0</td>\n",
       "    </tr>\n",
       "    <tr>\n",
       "      <th>162888</th>\n",
       "      <td>2020-11-22</td>\n",
       "      <td>6794.0</td>\n",
       "    </tr>\n",
       "    <tr>\n",
       "      <th>162889</th>\n",
       "      <td>2020-11-29</td>\n",
       "      <td>7162.0</td>\n",
       "    </tr>\n",
       "    <tr>\n",
       "      <th>162890</th>\n",
       "      <td>2020-12-06</td>\n",
       "      <td>6432.0</td>\n",
       "    </tr>\n",
       "    <tr>\n",
       "      <th>162891</th>\n",
       "      <td>2020-12-13</td>\n",
       "      <td>5261.0</td>\n",
       "    </tr>\n",
       "    <tr>\n",
       "      <th>162892</th>\n",
       "      <td>2020-12-20</td>\n",
       "      <td>3773.0</td>\n",
       "    </tr>\n",
       "    <tr>\n",
       "      <th>162893</th>\n",
       "      <td>2020-12-27</td>\n",
       "      <td>1899.0</td>\n",
       "    </tr>\n",
       "    <tr>\n",
       "      <th>0</th>\n",
       "      <td>2021-01-01</td>\n",
       "      <td>0.0</td>\n",
       "    </tr>\n",
       "    <tr>\n",
       "      <th>1</th>\n",
       "      <td>2021-02-01</td>\n",
       "      <td>0.0</td>\n",
       "    </tr>\n",
       "    <tr>\n",
       "      <th>2</th>\n",
       "      <td>2021-03-01</td>\n",
       "      <td>0.0</td>\n",
       "    </tr>\n",
       "    <tr>\n",
       "      <th>3</th>\n",
       "      <td>2021-04-01</td>\n",
       "      <td>0.0</td>\n",
       "    </tr>\n",
       "    <tr>\n",
       "      <th>4</th>\n",
       "      <td>2021-05-01</td>\n",
       "      <td>0.0</td>\n",
       "    </tr>\n",
       "    <tr>\n",
       "      <th>5</th>\n",
       "      <td>2021-06-01</td>\n",
       "      <td>0.0</td>\n",
       "    </tr>\n",
       "  </tbody>\n",
       "</table>\n",
       "</div>"
      ],
      "text/plain": [
       "             date  no_cases\n",
       "162880 2020-09-27    6098.0\n",
       "162881 2020-10-04    5634.0\n",
       "162882 2020-10-11    5284.0\n",
       "162883 2020-10-18    5499.0\n",
       "162884 2020-10-25    4711.0\n",
       "162885 2020-11-01    5778.0\n",
       "162886 2020-11-08    6107.0\n",
       "162887 2020-11-15    6822.0\n",
       "162888 2020-11-22    6794.0\n",
       "162889 2020-11-29    7162.0\n",
       "162890 2020-12-06    6432.0\n",
       "162891 2020-12-13    5261.0\n",
       "162892 2020-12-20    3773.0\n",
       "162893 2020-12-27    1899.0\n",
       "0      2021-01-01       0.0\n",
       "1      2021-02-01       0.0\n",
       "2      2021-03-01       0.0\n",
       "3      2021-04-01       0.0\n",
       "4      2021-05-01       0.0\n",
       "5      2021-06-01       0.0"
      ]
     },
     "execution_count": 214,
     "metadata": {},
     "output_type": "execute_result"
    }
   ],
   "source": [
    "fit_data.tail(20)"
   ]
  },
  {
   "cell_type": "code",
   "execution_count": 215,
   "metadata": {},
   "outputs": [
    {
     "data": {
      "text/plain": [
       "<matplotlib.axes._subplots.AxesSubplot at 0x138f4df60>"
      ]
     },
     "execution_count": 215,
     "metadata": {},
     "output_type": "execute_result"
    },
    {
     "data": {
      "image/png": "[encoded data removed]",
      "text/plain": [
       "<Figure size 1440x360 with 1 Axes>"
      ]
     },
     "metadata": {
      "needs_background": "light"
     },
     "output_type": "display_data"
    }
   ],
   "source": [
    "ax = fit_data.set_index('date').plot(y='no_cases',figsize=(20,5),title='Actual Vs Forecasted')\n",
    "arima_test_predictions.plot(y='Predictions',figsize=(20,5),title='Actual vs Forecast', ax=ax)"
   ]
  },
  {
   "cell_type": "code",
   "execution_count": 216,
   "metadata": {},
   "outputs": [
    {
     "ename": "AssertionError",
     "evalue": "",
     "output_type": "error",
     "traceback": [
      "\u001b[0;31m---------------------------------------------------------------------------\u001b[0m",
      "\u001b[0;31mAssertionError\u001b[0m                            Traceback (most recent call last)",
      "\u001b[0;32m<ipython-input-216-a871fdc9ebee>\u001b[0m in \u001b[0;36m<module>\u001b[0;34m\u001b[0m\n\u001b[0;32m----> 1\u001b[0;31m \u001b[0;32massert\u001b[0m \u001b[0;32mFalse\u001b[0m\u001b[0;34m\u001b[0m\u001b[0;34m\u001b[0m\u001b[0m\n\u001b[0m",
      "\u001b[0;31mAssertionError\u001b[0m: "
     ]
    }
   ],
   "source": [
    "assert False"
   ]
  },
  {
   "cell_type": "code",
   "execution_count": null,
   "metadata": {},
   "outputs": [],
   "source": [
    "arima_test_predictions.tail()"
   ]
  },
  {
   "cell_type": "code",
   "execution_count": null,
   "metadata": {},
   "outputs": [],
   "source": [
    "forecast_accuracy(arima_test_predictions['Predictions'], predict_data['no_cases'])"
   ]
  },
  {
   "cell_type": "markdown",
   "metadata": {},
   "source": [
    "## COVID ARIMA for Brazil"
   ]
  },
  {
   "cell_type": "code",
   "execution_count": null,
   "metadata": {},
   "outputs": [],
   "source": [
    "brazil_data_covid = df[df.country.str.lower().str.contains('brazil') &\n",
    "                       df.disease.isin(['covid-19'])]\n",
    "\n",
    "brazil_data_covid.date = pd.to_datetime(brazil_data_covid.date)"
   ]
  },
  {
   "cell_type": "code",
   "execution_count": null,
   "metadata": {},
   "outputs": [],
   "source": [
    "fit_data = brazil_data_covid[['date','no_cases']]\n",
    "train_data = fit_data[(fit_data.date.dt.year.isin([2020])) &\n",
    "                      (fit_data.date.dt.month>5)].set_index('date')\n",
    "\n",
    "predict_data = fit_data[fit_data.date.dt.year.isin([2021])].set_index('date')"
   ]
  },
  {
   "cell_type": "code",
   "execution_count": null,
   "metadata": {},
   "outputs": [],
   "source": [
    "train_data.head()"
   ]
  },
  {
   "cell_type": "code",
   "execution_count": null,
   "metadata": {},
   "outputs": [],
   "source": [
    "auto_arima_model = auto_arima(train_data[['no_cases']].fillna(method=\"bfill\"), random_state=42)\n",
    "auto_arima_model.summary()"
   ]
  },
  {
   "cell_type": "code",
   "execution_count": null,
   "metadata": {},
   "outputs": [],
   "source": [
    "auto_arimaprediction = pd.DataFrame(auto_arima_model.predict(len(predict_data)),index=predict_data.index)\n",
    "auto_arimaprediction.columns = ['Predicted']\n",
    "\n",
    "ax = fit_data.set_index('date').plot(y='no_cases',figsize=(20,5),title='Auto Arima Actual Vs Forecasted')\n",
    "auto_arimaprediction.plot(y='Predicted',figsize=(20,5),title='Actual vs Forecast', ax=ax)"
   ]
  },
  {
   "cell_type": "code",
   "execution_count": null,
   "metadata": {},
   "outputs": [],
   "source": [
    "# Checking model fit on train data\n",
    "\n",
    "trainfitpredict = pd.DataFrame(auto_arima_model.predict_in_sample(), index=train_data.index)\n",
    "trainfitpredict.columns = ['no_cases']\n",
    "\n",
    "ax = train_data.plot(y='no_cases',figsize=(20,5),title='Actual Vs Forecasted')\n",
    "trainfitpredict.plot(y='no_cases',figsize=(20,5),title='Actual vs Forecast', ax=ax)"
   ]
  },
  {
   "cell_type": "code",
   "execution_count": null,
   "metadata": {},
   "outputs": [],
   "source": [
    "p = d = q = range(0,3)\n",
    "pdqlist = list(itertools.product(p, d, q))\n",
    "newordersaic_d = aic_for_orders(train=train_data.no_cases, pdq_values=pdqlist)"
   ]
  },
  {
   "cell_type": "code",
   "execution_count": null,
   "metadata": {},
   "outputs": [],
   "source": [
    "orders_andaic = pd.DataFrame(newordersaic_d.items(),columns=['orders','aic']).sort_values(by='aic',ascending=True)\n",
    "\n",
    "fig_dims = (44, 4)\n",
    "fig, ax = plt.subplots(figsize=fig_dims)\n",
    "sns.barplot(x='orders', y='aic', data=orders_andaic)\n",
    "ax.set(xlabel = 'orders', ylabel='%', title='pdq values and aic scores')"
   ]
  },
  {
   "cell_type": "code",
   "execution_count": null,
   "metadata": {},
   "outputs": [],
   "source": [
    "arima_test_predictions = get_arima_predictions(train_data[['no_cases']],\n",
    "                                               predict_data[['no_cases']],\n",
    "                                              order=(0,2,3))"
   ]
  },
  {
   "cell_type": "code",
   "execution_count": null,
   "metadata": {},
   "outputs": [],
   "source": [
    "ax = fit_data.set_index('date').plot(y='no_cases',figsize=(20,5),title='Actual Vs Forecasted')\n",
    "arima_test_predictions.plot(y='Predictions',figsize=(20,5),title='Actual vs Forecast', ax=ax)"
   ]
  },
  {
   "cell_type": "code",
   "execution_count": null,
   "metadata": {},
   "outputs": [],
   "source": [
    "forecast_accuracy(arima_test_predictions['Predictions'], predict_data['no_cases'])"
   ]
  },
  {
   "cell_type": "markdown",
   "metadata": {},
   "source": [
    "## ZIKA ARIMA for Brazil"
   ]
  },
  {
   "cell_type": "code",
   "execution_count": null,
   "metadata": {},
   "outputs": [],
   "source": [
    "brazil_data_zika = df[df.country.str.lower().str.contains('brazil') &\n",
    "                       df.disease.isin(['zika'])]\n",
    "\n",
    "brazil_data_zika.date = pd.to_datetime(brazil_data_zika.date)"
   ]
  },
  {
   "cell_type": "code",
   "execution_count": null,
   "metadata": {},
   "outputs": [],
   "source": [
    "fit_data = brazil_data_zika[['date','no_cases']]\n",
    "train_data = fit_data[(fit_data.date >= pd.to_datetime('2016-11-01')) &\n",
    "                      (fit_data.date <= pd.to_datetime('2017-08-31'))].set_index('date')\n",
    "\n",
    "predict_data = fit_data[(fit_data.date >= pd.to_datetime('2017-09-01')) &\n",
    "                        (fit_data.date <= pd.to_datetime('2017-12-31'))].set_index('date')"
   ]
  },
  {
   "cell_type": "code",
   "execution_count": null,
   "metadata": {},
   "outputs": [],
   "source": [
    "auto_arima_model = auto_arima(train_data[['no_cases']].fillna(method=\"bfill\"), random_state=42)\n",
    "auto_arima_model.summary()"
   ]
  },
  {
   "cell_type": "code",
   "execution_count": null,
   "metadata": {},
   "outputs": [],
   "source": [
    "auto_arimaprediction = pd.DataFrame(auto_arima_model.predict(len(predict_data)),index=predict_data.index)\n",
    "auto_arimaprediction.columns = ['Predicted']\n",
    "\n",
    "ax = fit_data.set_index('date').plot(y='no_cases',figsize=(20,5),title='Auto Arima Actual Vs Forecasted')\n",
    "auto_arimaprediction.plot(y='Predicted',figsize=(20,5),title='Actual vs Forecast', ax=ax)"
   ]
  },
  {
   "cell_type": "code",
   "execution_count": null,
   "metadata": {},
   "outputs": [],
   "source": [
    "# Checking model fit on train data\n",
    "\n",
    "trainfitpredict = pd.DataFrame(auto_arima_model.predict_in_sample(), index=train_data.index)\n",
    "trainfitpredict.columns = ['no_cases']\n",
    "\n",
    "ax = train_data.plot(y='no_cases',figsize=(20,5),title='Actual Vs Forecasted')\n",
    "trainfitpredict.plot(y='no_cases',figsize=(20,5),title='Actual vs Forecast', ax=ax)"
   ]
  },
  {
   "cell_type": "code",
   "execution_count": null,
   "metadata": {},
   "outputs": [],
   "source": [
    "p = d = q = range(0,3)\n",
    "pdqlist = list(itertools.product(p, d, q))\n",
    "newordersaic_d = aic_for_orders(train=train_data.no_cases, pdq_values=pdqlist)"
   ]
  },
  {
   "cell_type": "code",
   "execution_count": null,
   "metadata": {},
   "outputs": [],
   "source": [
    "orders_andaic = pd.DataFrame(newordersaic_d.items(),columns=['orders','aic']).sort_values(by='aic',ascending=True)\n",
    "\n",
    "fig_dims = (44, 4)\n",
    "fig, ax = plt.subplots(figsize=fig_dims)\n",
    "sns.barplot(x='orders', y='aic', data=orders_andaic)\n",
    "ax.set(xlabel = 'orders', ylabel='%', title='pdq values and aic scores')"
   ]
  },
  {
   "cell_type": "code",
   "execution_count": null,
   "metadata": {},
   "outputs": [],
   "source": [
    "arima_test_predictions = get_arima_predictions(train_data[['no_cases']],\n",
    "                                               predict_data[['no_cases']],\n",
    "                                              order=(1,0,2))"
   ]
  },
  {
   "cell_type": "code",
   "execution_count": null,
   "metadata": {},
   "outputs": [],
   "source": [
    "ax = fit_data.set_index('date').plot(y='no_cases',figsize=(20,5),title='Actual Vs Forecasted')\n",
    "arima_test_predictions.plot(y='Predictions',figsize=(20,5),title='Actual vs Forecast', ax=ax)"
   ]
  },
  {
   "cell_type": "code",
   "execution_count": null,
   "metadata": {},
   "outputs": [],
   "source": [
    "forecast_accuracy(arima_test_predictions['Predictions'], predict_data['no_cases'])"
   ]
  },
  {
   "cell_type": "code",
   "execution_count": null,
   "metadata": {},
   "outputs": [],
   "source": [
    "arima_test_predictions['Predictions'].tail()"
   ]
  }
 ],
 "metadata": {
  "interpreter": {
   "hash": "31f2aee4e71d21fbe5cf8b01ff0e069b9275f58929596ceb00d14d90e3e16cd6"
  },
  "kernelspec": {
   "display_name": "Python 3",
   "language": "python",
   "name": "python3"
  },
  "language_info": {
   "codemirror_mode": {
    "name": "ipython",
    "version": 3
   },
   "file_extension": ".py",
   "mimetype": "text/x-python",
   "name": "python",
   "nbconvert_exporter": "python",
   "pygments_lexer": "ipython3",
   "version": "3.7.3"
  }
 },
 "nbformat": 4,
 "nbformat_minor": 2
}
