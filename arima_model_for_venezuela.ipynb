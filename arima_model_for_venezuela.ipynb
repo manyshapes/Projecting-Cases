{
 "cells": [
  {
   "cell_type": "code",
   "execution_count": 1,
   "metadata": {},
   "outputs": [],
   "source": [
    "import numpy as np\n",
    "import pandas as pd\n",
    "import matplotlib.pylab as plt\n",
    "%matplotlib inline\n",
    "from matplotlib.pylab import rcParams\n",
    "rcParams['figure.figsize'] = 10, 6\n",
    "import seaborn as sns\n",
    "from statsmodels.tsa.arima.model import ARIMA\n",
    "from sklearn.metrics import mean_squared_error\n",
    "\n",
    "\n",
    "import itertools\n",
    "\n",
    "import warnings\n",
    "warnings.filterwarnings('ignore')"
   ]
  },
  {
   "cell_type": "code",
   "execution_count": 2,
   "metadata": {},
   "outputs": [],
   "source": [
    "df = pd.read_csv(\"Datasets/all_diseases.csv.gz\")\n",
    "df.loc[(df.disease.isin(['dengue'])) & \n",
    "       (df.no_cases.isin([-45491.0])), \n",
    "       'no_cases'] = 45491.0\n",
    "df.date = pd.to_datetime(df.date)"
   ]
  },
  {
   "cell_type": "code",
   "execution_count": 3,
   "metadata": {},
   "outputs": [],
   "source": [
    "\n",
    "# Mean Absolute Percentage Error (MAPE)\n",
    "# Mean Error (ME)\n",
    "# Mean Absolute Error (MAE)\n",
    "# Mean Percentage Error (MPE)\n",
    "# Root Mean Squared Error (RMSE)\n",
    "# Lag 1 Autocorrelation of Error (ACF1)\n",
    "# Correlation between the Actual and the Forecast (corr)\n",
    "# Min-Max Error (minmax)\n",
    "\n",
    "\n",
    "\n",
    "def forecast_accuracy(forecast, actual):\n",
    "    mape = np.mean(np.abs(forecast - actual)/np.abs(actual))  # MAPE\n",
    "    me = np.mean(forecast - actual)             # ME\n",
    "    mae = np.mean(np.abs(forecast - actual))    # MAE\n",
    "    mpe = np.mean((forecast - actual)/actual)   # MPE\n",
    "    rmse = np.mean((forecast - actual)**2)**.5  # RMSE\n",
    "    corr = np.corrcoef(forecast, actual)[0,1]   # corr\n",
    "    mins = np.amin(np.hstack([forecast[:,None], \n",
    "                              actual[:,None]]), axis=1)\n",
    "    maxs = np.amax(np.hstack([forecast[:,None], \n",
    "                              actual[:,None]]), axis=1)\n",
    "    minmax = 1 - np.mean(mins/maxs)             # minmax\n",
    "#     acf1 = acf(fc-test)[1]                      # ACF1\n",
    "    return({'mape':mape, 'me':me, 'mae': mae, \n",
    "            'mpe': mpe, 'rmse':rmse, \n",
    "#             'acf1':acf1, \n",
    "            'corr':corr, 'minmax':minmax})\n"
   ]
  },
  {
   "cell_type": "code",
   "execution_count": 4,
   "metadata": {},
   "outputs": [
    {
     "data": {
      "text/html": [
       "<div>\n",
       "<style scoped>\n",
       "    .dataframe tbody tr th:only-of-type {\n",
       "        vertical-align: middle;\n",
       "    }\n",
       "\n",
       "    .dataframe tbody tr th {\n",
       "        vertical-align: top;\n",
       "    }\n",
       "\n",
       "    .dataframe thead th {\n",
       "        text-align: right;\n",
       "    }\n",
       "</style>\n",
       "<table border=\"1\" class=\"dataframe\">\n",
       "  <thead>\n",
       "    <tr style=\"text-align: right;\">\n",
       "      <th>date</th>\n",
       "      <th>1</th>\n",
       "      <th>2</th>\n",
       "      <th>3</th>\n",
       "      <th>4</th>\n",
       "      <th>5</th>\n",
       "      <th>6</th>\n",
       "      <th>7</th>\n",
       "      <th>8</th>\n",
       "      <th>9</th>\n",
       "      <th>10</th>\n",
       "      <th>11</th>\n",
       "      <th>12</th>\n",
       "    </tr>\n",
       "    <tr>\n",
       "      <th>date</th>\n",
       "      <th></th>\n",
       "      <th></th>\n",
       "      <th></th>\n",
       "      <th></th>\n",
       "      <th></th>\n",
       "      <th></th>\n",
       "      <th></th>\n",
       "      <th></th>\n",
       "      <th></th>\n",
       "      <th></th>\n",
       "      <th></th>\n",
       "      <th></th>\n",
       "    </tr>\n",
       "  </thead>\n",
       "  <tbody>\n",
       "    <tr>\n",
       "      <th>2015</th>\n",
       "      <td>NaN</td>\n",
       "      <td>NaN</td>\n",
       "      <td>NaN</td>\n",
       "      <td>NaN</td>\n",
       "      <td>NaN</td>\n",
       "      <td>NaN</td>\n",
       "      <td>16506.0</td>\n",
       "      <td>NaN</td>\n",
       "      <td>NaN</td>\n",
       "      <td>NaN</td>\n",
       "      <td>NaN</td>\n",
       "      <td>37646.0</td>\n",
       "    </tr>\n",
       "    <tr>\n",
       "      <th>2016</th>\n",
       "      <td>9407.0</td>\n",
       "      <td>4877.0</td>\n",
       "      <td>2205.0</td>\n",
       "      <td>1761.0</td>\n",
       "      <td>2283.0</td>\n",
       "      <td>2161.0</td>\n",
       "      <td>2008.0</td>\n",
       "      <td>1171.0</td>\n",
       "      <td>897.0</td>\n",
       "      <td>1166.0</td>\n",
       "      <td>800.0</td>\n",
       "      <td>532.0</td>\n",
       "    </tr>\n",
       "    <tr>\n",
       "      <th>2017</th>\n",
       "      <td>804.0</td>\n",
       "      <td>711.0</td>\n",
       "      <td>774.0</td>\n",
       "      <td>596.0</td>\n",
       "      <td>637.0</td>\n",
       "      <td>742.0</td>\n",
       "      <td>753.0</td>\n",
       "      <td>813.0</td>\n",
       "      <td>893.0</td>\n",
       "      <td>891.0</td>\n",
       "      <td>583.0</td>\n",
       "      <td>491.0</td>\n",
       "    </tr>\n",
       "    <tr>\n",
       "      <th>2018</th>\n",
       "      <td>776.0</td>\n",
       "      <td>924.0</td>\n",
       "      <td>826.0</td>\n",
       "      <td>802.0</td>\n",
       "      <td>738.0</td>\n",
       "      <td>883.0</td>\n",
       "      <td>1460.0</td>\n",
       "      <td>1638.0</td>\n",
       "      <td>3532.0</td>\n",
       "      <td>3176.0</td>\n",
       "      <td>2799.0</td>\n",
       "      <td>1672.0</td>\n",
       "    </tr>\n",
       "    <tr>\n",
       "      <th>2019</th>\n",
       "      <td>1296.0</td>\n",
       "      <td>950.0</td>\n",
       "      <td>691.0</td>\n",
       "      <td>591.0</td>\n",
       "      <td>857.0</td>\n",
       "      <td>1487.0</td>\n",
       "      <td>1450.0</td>\n",
       "      <td>1621.0</td>\n",
       "      <td>2296.0</td>\n",
       "      <td>1761.0</td>\n",
       "      <td>1608.0</td>\n",
       "      <td>1355.0</td>\n",
       "    </tr>\n",
       "    <tr>\n",
       "      <th>2020</th>\n",
       "      <td>1210.0</td>\n",
       "      <td>938.0</td>\n",
       "      <td>584.0</td>\n",
       "      <td>234.0</td>\n",
       "      <td>469.0</td>\n",
       "      <td>350.0</td>\n",
       "      <td>609.0</td>\n",
       "      <td>539.0</td>\n",
       "      <td>358.0</td>\n",
       "      <td>363.0</td>\n",
       "      <td>552.0</td>\n",
       "      <td>386.0</td>\n",
       "    </tr>\n",
       "  </tbody>\n",
       "</table>\n",
       "</div>"
      ],
      "text/plain": [
       "date      1       2       3       4       5       6        7       8       9   \\\n",
       "date                                                                            \n",
       "2015     NaN     NaN     NaN     NaN     NaN     NaN  16506.0     NaN     NaN   \n",
       "2016  9407.0  4877.0  2205.0  1761.0  2283.0  2161.0   2008.0  1171.0   897.0   \n",
       "2017   804.0   711.0   774.0   596.0   637.0   742.0    753.0   813.0   893.0   \n",
       "2018   776.0   924.0   826.0   802.0   738.0   883.0   1460.0  1638.0  3532.0   \n",
       "2019  1296.0   950.0   691.0   591.0   857.0  1487.0   1450.0  1621.0  2296.0   \n",
       "2020  1210.0   938.0   584.0   234.0   469.0   350.0    609.0   539.0   358.0   \n",
       "\n",
       "date      10      11       12  \n",
       "date                           \n",
       "2015     NaN     NaN  37646.0  \n",
       "2016  1166.0   800.0    532.0  \n",
       "2017   891.0   583.0    491.0  \n",
       "2018  3176.0  2799.0   1672.0  \n",
       "2019  1761.0  1608.0   1355.0  \n",
       "2020   363.0   552.0    386.0  "
      ]
     },
     "execution_count": 4,
     "metadata": {},
     "output_type": "execute_result"
    }
   ],
   "source": [
    "ven_data_dengue = df[df.country.str.lower().str.contains('venezuela') &\n",
    "                        df.disease.isin(['dengue'])]\n",
    "\n",
    "\n",
    "ven_data_dengue.pivot_table(index=ven_data_dengue.date.dt.year, \n",
    "                               columns = ven_data_dengue.date.dt.month, \n",
    "                               values = 'no_cases', \n",
    "                               aggfunc='sum')"
   ]
  },
  {
   "cell_type": "code",
   "execution_count": 5,
   "metadata": {},
   "outputs": [
    {
     "data": {
      "text/html": [
       "<div>\n",
       "<style scoped>\n",
       "    .dataframe tbody tr th:only-of-type {\n",
       "        vertical-align: middle;\n",
       "    }\n",
       "\n",
       "    .dataframe tbody tr th {\n",
       "        vertical-align: top;\n",
       "    }\n",
       "\n",
       "    .dataframe thead th {\n",
       "        text-align: right;\n",
       "    }\n",
       "</style>\n",
       "<table border=\"1\" class=\"dataframe\">\n",
       "  <thead>\n",
       "    <tr style=\"text-align: right;\">\n",
       "      <th>date</th>\n",
       "      <th>1</th>\n",
       "      <th>2</th>\n",
       "      <th>3</th>\n",
       "      <th>4</th>\n",
       "      <th>5</th>\n",
       "      <th>6</th>\n",
       "      <th>7</th>\n",
       "      <th>8</th>\n",
       "      <th>9</th>\n",
       "      <th>10</th>\n",
       "      <th>11</th>\n",
       "      <th>12</th>\n",
       "    </tr>\n",
       "    <tr>\n",
       "      <th>date</th>\n",
       "      <th></th>\n",
       "      <th></th>\n",
       "      <th></th>\n",
       "      <th></th>\n",
       "      <th></th>\n",
       "      <th></th>\n",
       "      <th></th>\n",
       "      <th></th>\n",
       "      <th></th>\n",
       "      <th></th>\n",
       "      <th></th>\n",
       "      <th></th>\n",
       "    </tr>\n",
       "  </thead>\n",
       "  <tbody>\n",
       "    <tr>\n",
       "      <th>2016</th>\n",
       "      <td>NaN</td>\n",
       "      <td>NaN</td>\n",
       "      <td>NaN</td>\n",
       "      <td>NaN</td>\n",
       "      <td>NaN</td>\n",
       "      <td>NaN</td>\n",
       "      <td>NaN</td>\n",
       "      <td>NaN</td>\n",
       "      <td>NaN</td>\n",
       "      <td>NaN</td>\n",
       "      <td>136.0</td>\n",
       "      <td>0.0</td>\n",
       "    </tr>\n",
       "    <tr>\n",
       "      <th>2017</th>\n",
       "      <td>33.0</td>\n",
       "      <td>0.0</td>\n",
       "      <td>0.0</td>\n",
       "      <td>0.0</td>\n",
       "      <td>0.0</td>\n",
       "      <td>0.0</td>\n",
       "      <td>0.0</td>\n",
       "      <td>0.0</td>\n",
       "      <td>0.0</td>\n",
       "      <td>0.0</td>\n",
       "      <td>0.0</td>\n",
       "      <td>0.0</td>\n",
       "    </tr>\n",
       "  </tbody>\n",
       "</table>\n",
       "</div>"
      ],
      "text/plain": [
       "date    1    2    3    4    5    6    7    8    9    10     11   12\n",
       "date                                                               \n",
       "2016   NaN  NaN  NaN  NaN  NaN  NaN  NaN  NaN  NaN  NaN  136.0  0.0\n",
       "2017  33.0  0.0  0.0  0.0  0.0  0.0  0.0  0.0  0.0  0.0    0.0  0.0"
      ]
     },
     "execution_count": 5,
     "metadata": {},
     "output_type": "execute_result"
    }
   ],
   "source": [
    "ven_data_zika = df[df.country.str.lower().str.contains('venezuela') &\n",
    "                        df.disease.isin(['zika'])]\n",
    "\n",
    "\n",
    "ven_data_zika.pivot_table(index=ven_data_zika.date.dt.year, \n",
    "                               columns = ven_data_zika.date.dt.month, \n",
    "                               values = 'no_cases', \n",
    "                               aggfunc='sum')"
   ]
  },
  {
   "cell_type": "code",
   "execution_count": 6,
   "metadata": {},
   "outputs": [],
   "source": [
    "ven_data = df[df.country.str.lower().str.contains('venezuela')]"
   ]
  },
  {
   "cell_type": "code",
   "execution_count": 7,
   "metadata": {},
   "outputs": [
    {
     "data": {
      "text/plain": [
       "covid-19    557\n",
       "dengue      265\n",
       "zika         62\n",
       "malaria      17\n",
       "Name: disease, dtype: int64"
      ]
     },
     "execution_count": 7,
     "metadata": {},
     "output_type": "execute_result"
    }
   ],
   "source": [
    "ven_data.disease.value_counts()"
   ]
  },
  {
   "cell_type": "markdown",
   "metadata": {},
   "source": [
    "## Using the auto arima for Dengue Mexico data"
   ]
  },
  {
   "cell_type": "code",
   "execution_count": 8,
   "metadata": {},
   "outputs": [],
   "source": [
    "ven_data_dengue = ven_data[ven_data.disease.isin(['dengue'])]\n",
    "fit_data = ven_data_dengue[['date','no_cases']]\n",
    "train_data = fit_data[fit_data.date.dt.year.isin([2016,2017,2018])].set_index('date')\n",
    "\n",
    "predict_data = fit_data[fit_data.date.dt.year.isin([2019,2020])].set_index('date')"
   ]
  },
  {
   "cell_type": "code",
   "execution_count": 9,
   "metadata": {},
   "outputs": [],
   "source": [
    "from pmdarima.arima import auto_arima"
   ]
  },
  {
   "cell_type": "code",
   "execution_count": 10,
   "metadata": {},
   "outputs": [
    {
     "data": {
      "text/html": [
       "<table class=\"simpletable\">\n",
       "<caption>SARIMAX Results</caption>\n",
       "<tr>\n",
       "  <th>Dep. Variable:</th>           <td>y</td>        <th>  No. Observations:  </th>    <td>157</td>  \n",
       "</tr>\n",
       "<tr>\n",
       "  <th>Model:</th>           <td>SARIMAX(0, 2, 2)</td> <th>  Log Likelihood     </th> <td>-891.890</td>\n",
       "</tr>\n",
       "<tr>\n",
       "  <th>Date:</th>            <td>Sun, 01 Aug 2021</td> <th>  AIC                </th> <td>1789.780</td>\n",
       "</tr>\n",
       "<tr>\n",
       "  <th>Time:</th>                <td>11:17:40</td>     <th>  BIC                </th> <td>1798.911</td>\n",
       "</tr>\n",
       "<tr>\n",
       "  <th>Sample:</th>                  <td>0</td>        <th>  HQIC               </th> <td>1793.489</td>\n",
       "</tr>\n",
       "<tr>\n",
       "  <th></th>                      <td> - 157</td>      <th>                     </th>     <td> </td>   \n",
       "</tr>\n",
       "<tr>\n",
       "  <th>Covariance Type:</th>        <td>opg</td>       <th>                     </th>     <td> </td>   \n",
       "</tr>\n",
       "</table>\n",
       "<table class=\"simpletable\">\n",
       "<tr>\n",
       "     <td></td>       <th>coef</th>     <th>std err</th>      <th>z</th>      <th>P>|z|</th>  <th>[0.025</th>    <th>0.975]</th>  \n",
       "</tr>\n",
       "<tr>\n",
       "  <th>ma.L1</th>  <td>   -1.0659</td> <td>    0.059</td> <td>  -18.089</td> <td> 0.000</td> <td>   -1.181</td> <td>   -0.950</td>\n",
       "</tr>\n",
       "<tr>\n",
       "  <th>ma.L2</th>  <td>    0.2798</td> <td>    0.067</td> <td>    4.178</td> <td> 0.000</td> <td>    0.149</td> <td>    0.411</td>\n",
       "</tr>\n",
       "<tr>\n",
       "  <th>sigma2</th> <td> 5726.4419</td> <td>  406.068</td> <td>   14.102</td> <td> 0.000</td> <td> 4930.562</td> <td> 6522.321</td>\n",
       "</tr>\n",
       "</table>\n",
       "<table class=\"simpletable\">\n",
       "<tr>\n",
       "  <th>Ljung-Box (L1) (Q):</th>     <td>1.35</td> <th>  Jarque-Bera (JB):  </th> <td>121.74</td>\n",
       "</tr>\n",
       "<tr>\n",
       "  <th>Prob(Q):</th>                <td>0.24</td> <th>  Prob(JB):          </th>  <td>0.00</td> \n",
       "</tr>\n",
       "<tr>\n",
       "  <th>Heteroskedasticity (H):</th> <td>0.55</td> <th>  Skew:              </th>  <td>0.23</td> \n",
       "</tr>\n",
       "<tr>\n",
       "  <th>Prob(H) (two-sided):</th>    <td>0.03</td> <th>  Kurtosis:          </th>  <td>7.32</td> \n",
       "</tr>\n",
       "</table><br/><br/>Warnings:<br/>[1] Covariance matrix calculated using the outer product of gradients (complex-step)."
      ],
      "text/plain": [
       "<class 'statsmodels.iolib.summary.Summary'>\n",
       "\"\"\"\n",
       "                               SARIMAX Results                                \n",
       "==============================================================================\n",
       "Dep. Variable:                      y   No. Observations:                  157\n",
       "Model:               SARIMAX(0, 2, 2)   Log Likelihood                -891.890\n",
       "Date:                Sun, 01 Aug 2021   AIC                           1789.780\n",
       "Time:                        11:17:40   BIC                           1798.911\n",
       "Sample:                             0   HQIC                          1793.489\n",
       "                                - 157                                         \n",
       "Covariance Type:                  opg                                         \n",
       "==============================================================================\n",
       "                 coef    std err          z      P>|z|      [0.025      0.975]\n",
       "------------------------------------------------------------------------------\n",
       "ma.L1         -1.0659      0.059    -18.089      0.000      -1.181      -0.950\n",
       "ma.L2          0.2798      0.067      4.178      0.000       0.149       0.411\n",
       "sigma2      5726.4419    406.068     14.102      0.000    4930.562    6522.321\n",
       "===================================================================================\n",
       "Ljung-Box (L1) (Q):                   1.35   Jarque-Bera (JB):               121.74\n",
       "Prob(Q):                              0.24   Prob(JB):                         0.00\n",
       "Heteroskedasticity (H):               0.55   Skew:                             0.23\n",
       "Prob(H) (two-sided):                  0.03   Kurtosis:                         7.32\n",
       "===================================================================================\n",
       "\n",
       "Warnings:\n",
       "[1] Covariance matrix calculated using the outer product of gradients (complex-step).\n",
       "\"\"\""
      ]
     },
     "execution_count": 10,
     "metadata": {},
     "output_type": "execute_result"
    }
   ],
   "source": [
    "auto_arima_model = auto_arima(train_data[['no_cases']].fillna(method=\"bfill\"), random_state=42)\n",
    "auto_arima_model.summary()"
   ]
  },
  {
   "cell_type": "code",
   "execution_count": 11,
   "metadata": {},
   "outputs": [],
   "source": [
    "auto_arimaprediction = pd.DataFrame(auto_arima_model.predict(len(predict_data)),index=predict_data.index)\n",
    "auto_arimaprediction.columns = ['Predicted']"
   ]
  },
  {
   "cell_type": "code",
   "execution_count": 12,
   "metadata": {},
   "outputs": [
    {
     "data": {
      "text/plain": [
       "<matplotlib.axes._subplots.AxesSubplot at 0x12ffa32e8>"
      ]
     },
     "execution_count": 12,
     "metadata": {},
     "output_type": "execute_result"
    },
    {
     "data": {
      "image/png": "[encoded data removed]",
      "text/plain": [
       "<Figure size 1440x360 with 1 Axes>"
      ]
     },
     "metadata": {
      "needs_background": "light"
     },
     "output_type": "display_data"
    }
   ],
   "source": [
    "ax = fit_data.set_index('date').plot(y='no_cases',figsize=(20,5),title='Auto Arima Actual Vs Forecasted')\n",
    "auto_arimaprediction.plot(y='Predicted',figsize=(20,5),title='Actual vs Forecast', ax=ax)"
   ]
  },
  {
   "cell_type": "code",
   "execution_count": 13,
   "metadata": {},
   "outputs": [
    {
     "data": {
      "text/plain": [
       "<matplotlib.axes._subplots.AxesSubplot at 0x1052d7128>"
      ]
     },
     "execution_count": 13,
     "metadata": {},
     "output_type": "execute_result"
    },
    {
     "data": {
      "image/png": "[encoded data removed]",
      "text/plain": [
       "<Figure size 1440x360 with 1 Axes>"
      ]
     },
     "metadata": {
      "needs_background": "light"
     },
     "output_type": "display_data"
    }
   ],
   "source": [
    "# Checking model fit on train data\n",
    "\n",
    "trainfitpredict = pd.DataFrame(auto_arima_model.predict_in_sample(), index=train_data.index)\n",
    "trainfitpredict.columns = ['no_cases']\n",
    "\n",
    "ax = train_data.plot(y='no_cases',figsize=(20,5),title='Actual Vs Forecasted')\n",
    "trainfitpredict.plot(y='no_cases',figsize=(20,5),title='Actual vs Forecast', ax=ax)"
   ]
  },
  {
   "cell_type": "markdown",
   "metadata": {},
   "source": [
    "# Classic Arima"
   ]
  },
  {
   "cell_type": "code",
   "execution_count": 14,
   "metadata": {},
   "outputs": [],
   "source": [
    "def aic_for_orders(train, pdq_values):\n",
    "    train = train.astype('float32')\n",
    "    ordersaic_d = {}\n",
    "    for current_pdq in pdq_values:\n",
    "        cur_model = ARIMA(train, order=current_pdq)\n",
    "        cur_results = cur_model.fit()\n",
    "        cur_aic = cur_results.aic\n",
    "        ordersaic_d[current_pdq] = cur_aic\n",
    "    return ordersaic_d\n",
    "\n",
    "def get_arima_predictions(train, test, order):\n",
    "    predictions = list()\n",
    "    for step in range(len(test)):\n",
    "        model = ARIMA(train,order=order)\n",
    "        fit_model = model.fit()\n",
    "        prediction = fit_model.forecast().values[0]\n",
    "        timestamp = test.index[step]\n",
    "        predictions.append((timestamp, prediction))\n",
    "        train = train.append(test.iloc[step])\n",
    "    preds_frame = pd.DataFrame(predictions).set_index([0]).rename(columns={1:'Predictions'})\n",
    "    return preds_frame"
   ]
  },
  {
   "cell_type": "code",
   "execution_count": 15,
   "metadata": {},
   "outputs": [],
   "source": [
    "p = d = q = range(0,4)\n",
    "pdqlist = list(itertools.product(p, d, q))\n",
    "newordersaic_d = aic_for_orders(train=train_data[['no_cases']].fillna(method=\"bfill\"), pdq_values=pdqlist)"
   ]
  },
  {
   "cell_type": "code",
   "execution_count": null,
   "metadata": {},
   "outputs": [
    {
     "data": {
      "text/plain": [
       "[Text(0, 0.5, '%'),\n",
       " Text(0.5, 0, 'orders'),\n",
       " Text(0.5, 1.0, 'pdq values and aic scores')]"
      ]
     },
     "execution_count": 16,
     "metadata": {},
     "output_type": "execute_result"
    }
   ],
   "source": [
    "orders_andaic = pd.DataFrame(newordersaic_d.items(),columns=['orders','aic']).sort_values(by='aic',ascending=True)\n",
    "\n",
    "fig_dims = (44, 4)\n",
    "fig, ax = plt.subplots(figsize=fig_dims)\n",
    "sns.barplot(x='orders', y='aic', data=orders_andaic)\n",
    "ax.set(xlabel = 'orders', ylabel='%', title='pdq values and aic scores')"
   ]
  },
  {
   "cell_type": "code",
   "execution_count": null,
   "metadata": {},
   "outputs": [],
   "source": [
    "arima_test_predictions = get_arima_predictions(train_data[['no_cases']],\n",
    "                                               predict_data[['no_cases']],\n",
    "                                              order=(2,1,2))"
   ]
  },
  {
   "cell_type": "code",
   "execution_count": null,
   "metadata": {},
   "outputs": [],
   "source": [
    "arima_test_predictions.head()"
   ]
  },
  {
   "cell_type": "code",
   "execution_count": null,
   "metadata": {},
   "outputs": [],
   "source": [
    "fit_data[fit_data.date.dt.year.isin([2019])].head()"
   ]
  },
  {
   "cell_type": "code",
   "execution_count": null,
   "metadata": {},
   "outputs": [],
   "source": [
    "ax = fit_data.set_index('date').plot(y='no_cases',figsize=(20,5),title='Actual Vs Forecasted')\n",
    "arima_test_predictions.plot(y='Predictions',figsize=(20,5),title='Actual vs Forecast', ax=ax)"
   ]
  },
  {
   "cell_type": "code",
   "execution_count": null,
   "metadata": {},
   "outputs": [],
   "source": [
    "forecast_accuracy(arima_test_predictions['Predictions'], predict_data['no_cases'])"
   ]
  },
  {
   "cell_type": "markdown",
   "metadata": {},
   "source": [
    "# Arima model for covid"
   ]
  },
  {
   "cell_type": "code",
   "execution_count": null,
   "metadata": {},
   "outputs": [],
   "source": [
    "ven_data_covid = ven_data[ven_data.disease.isin(['covid-19'])]\n",
    "\n",
    "ven_data_covid.date = pd.to_datetime(ven_data_covid.date)\n"
   ]
  },
  {
   "cell_type": "code",
   "execution_count": null,
   "metadata": {},
   "outputs": [],
   "source": [
    "pd.crosstab(ven_data_covid.date.dt.year, ven_data_covid.date.dt.month)"
   ]
  },
  {
   "cell_type": "code",
   "execution_count": null,
   "metadata": {},
   "outputs": [],
   "source": [
    "fit_data = ven_data_covid[['date','no_cases']]\n",
    "# train_data = fit_data[fit_data.date.dt.year.isin([2020])].set_index('date')\n",
    "train_data = fit_data[fit_data.date <= pd.to_datetime('2021-06-30')].set_index('date')\n",
    "\n",
    "predict_data = fit_data[fit_data.date >= pd.to_datetime('2021-07-01')].set_index('date')"
   ]
  },
  {
   "cell_type": "code",
   "execution_count": null,
   "metadata": {},
   "outputs": [],
   "source": [
    "auto_arima_model = auto_arima(train_data[['no_cases']].fillna(method=\"bfill\"), random_state=42)\n",
    "auto_arima_model.summary()"
   ]
  },
  {
   "cell_type": "code",
   "execution_count": null,
   "metadata": {},
   "outputs": [],
   "source": [
    "auto_arimaprediction = pd.DataFrame(auto_arima_model.predict(len(predict_data)),index=predict_data.index)\n",
    "auto_arimaprediction.columns = ['Predicted']\n",
    "\n",
    "ax = fit_data.set_index('date').plot(y='no_cases',figsize=(20,5),title='Auto Arima Actual Vs Forecasted')\n",
    "auto_arimaprediction.plot(y='Predicted',figsize=(20,5),title='Actual vs Forecast', ax=ax)"
   ]
  },
  {
   "cell_type": "code",
   "execution_count": null,
   "metadata": {},
   "outputs": [],
   "source": [
    "# Checking model fit on train data\n",
    "\n",
    "trainfitpredict = pd.DataFrame(auto_arima_model.predict_in_sample(), index=train_data.index)\n",
    "trainfitpredict.columns = ['no_cases']\n",
    "\n",
    "ax = train_data.plot(y='no_cases',figsize=(20,5),title='Actual Vs Forecasted')\n",
    "trainfitpredict.plot(y='no_cases',figsize=(20,5),title='Actual vs Forecast', ax=ax)"
   ]
  },
  {
   "cell_type": "code",
   "execution_count": null,
   "metadata": {},
   "outputs": [],
   "source": [
    "p = d = q = range(0,4)\n",
    "pdqlist = list(itertools.product(p, d, q))\n",
    "newordersaic_d = aic_for_orders(train=train_data.no_cases, pdq_values=pdqlist)"
   ]
  },
  {
   "cell_type": "code",
   "execution_count": null,
   "metadata": {},
   "outputs": [],
   "source": [
    "orders_andaic = pd.DataFrame(newordersaic_d.items(),columns=['orders','aic']).sort_values(by='aic',ascending=True)\n",
    "\n",
    "fig_dims = (44, 4)\n",
    "fig, ax = plt.subplots(figsize=fig_dims)\n",
    "sns.barplot(x='orders', y='aic', data=orders_andaic)\n",
    "ax.set(xlabel = 'orders', ylabel='%', title='pdq values and aic scores')"
   ]
  },
  {
   "cell_type": "code",
   "execution_count": null,
   "metadata": {},
   "outputs": [],
   "source": [
    "arima_test_predictions = get_arima_predictions(train_data[['no_cases']],\n",
    "                                               predict_data[['no_cases']],\n",
    "                                              order=(0,2,3))"
   ]
  },
  {
   "cell_type": "code",
   "execution_count": null,
   "metadata": {},
   "outputs": [],
   "source": [
    "ax = fit_data.set_index('date').plot(y='no_cases',figsize=(20,5),title='Actual Vs Forecasted')\n",
    "arima_test_predictions.plot(y='Predictions',figsize=(20,5),title='Actual vs Forecast', ax=ax)"
   ]
  },
  {
   "cell_type": "code",
   "execution_count": null,
   "metadata": {},
   "outputs": [],
   "source": [
    "forecast_accuracy(arima_test_predictions['Predictions'], predict_data['no_cases'])"
   ]
  },
  {
   "cell_type": "code",
   "execution_count": null,
   "metadata": {},
   "outputs": [],
   "source": []
  }
 ],
 "metadata": {
  "kernelspec": {
   "display_name": "Python 3",
   "language": "python",
   "name": "python3"
  },
  "language_info": {
   "codemirror_mode": {
    "name": "ipython",
    "version": 3
   },
   "file_extension": ".py",
   "mimetype": "text/x-python",
   "name": "python",
   "nbconvert_exporter": "python",
   "pygments_lexer": "ipython3",
   "version": "3.7.3"
  }
 },
 "nbformat": 4,
 "nbformat_minor": 2
}
